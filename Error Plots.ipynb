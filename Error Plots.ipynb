{
 "cells": [
  {
   "cell_type": "code",
   "execution_count": 18,
   "id": "0567f8be-42ad-4cd2-a24f-588ac75f06d7",
   "metadata": {},
   "outputs": [],
   "source": [
    "import sklearn\n",
    "import pandas as pd"
   ]
  },
  {
   "cell_type": "code",
   "execution_count": 19,
   "id": "a626c05f-f5f2-49df-af05-7f3744feb020",
   "metadata": {},
   "outputs": [],
   "source": [
    "path= r\"D:\\Asus\\Documents\\timeseries_rev (1).csv\""
   ]
  },
  {
   "cell_type": "code",
   "execution_count": 20,
   "id": "addac2fb-6b24-435b-8044-91b20d48cb18",
   "metadata": {},
   "outputs": [],
   "source": [
    "rev= pd.read_csv(path, date_parser='date')"
   ]
  },
  {
   "cell_type": "code",
   "execution_count": 21,
   "id": "9d15bf2f-6c9a-48d1-b0a6-89d3ca6c20e1",
   "metadata": {},
   "outputs": [
    {
     "data": {
      "text/plain": [
       "Index(['Unnamed: 0', 'week', 'year', 'date', 'total_revenue'], dtype='object')"
      ]
     },
     "execution_count": 21,
     "metadata": {},
     "output_type": "execute_result"
    }
   ],
   "source": [
    "rev.columns"
   ]
  },
  {
   "cell_type": "code",
   "execution_count": 22,
   "id": "54953b37-659b-492c-8433-0305222a2958",
   "metadata": {},
   "outputs": [
    {
     "data": {
      "text/plain": [
       "dtype('O')"
      ]
     },
     "execution_count": 22,
     "metadata": {},
     "output_type": "execute_result"
    }
   ],
   "source": [
    "rev['date'].dtype"
   ]
  },
  {
   "cell_type": "code",
   "execution_count": 23,
   "id": "d8cc1833-0731-49fe-a497-c78f98c1bf75",
   "metadata": {},
   "outputs": [],
   "source": [
    "rev['date']=pd.to_datetime(rev['date'])"
   ]
  },
  {
   "cell_type": "code",
   "execution_count": 24,
   "id": "0c2b5bfb-2e01-43ac-8fc1-65530b1d1ada",
   "metadata": {},
   "outputs": [
    {
     "data": {
      "text/plain": [
       "pandas.core.frame.DataFrame"
      ]
     },
     "execution_count": 24,
     "metadata": {},
     "output_type": "execute_result"
    }
   ],
   "source": [
    "type(rev\n",
    "    )"
   ]
  },
  {
   "cell_type": "code",
   "execution_count": 25,
   "id": "89297f4a-54a0-443b-874e-d4490e0e2e97",
   "metadata": {},
   "outputs": [],
   "source": [
    "rev['month']= rev['date'].dt.month"
   ]
  },
  {
   "cell_type": "code",
   "execution_count": 26,
   "id": "4526fd6b-9347-4428-875d-1b718afc874b",
   "metadata": {},
   "outputs": [
    {
     "data": {
      "text/html": [
       "<div>\n",
       "<style scoped>\n",
       "    .dataframe tbody tr th:only-of-type {\n",
       "        vertical-align: middle;\n",
       "    }\n",
       "\n",
       "    .dataframe tbody tr th {\n",
       "        vertical-align: top;\n",
       "    }\n",
       "\n",
       "    .dataframe thead th {\n",
       "        text-align: right;\n",
       "    }\n",
       "</style>\n",
       "<table border=\"1\" class=\"dataframe\">\n",
       "  <thead>\n",
       "    <tr style=\"text-align: right;\">\n",
       "      <th></th>\n",
       "      <th>Unnamed: 0</th>\n",
       "      <th>week</th>\n",
       "      <th>year</th>\n",
       "      <th>date</th>\n",
       "      <th>total_revenue</th>\n",
       "      <th>month</th>\n",
       "    </tr>\n",
       "  </thead>\n",
       "  <tbody>\n",
       "    <tr>\n",
       "      <th>0</th>\n",
       "      <td>96</td>\n",
       "      <td>49</td>\n",
       "      <td>2009</td>\n",
       "      <td>2009-12-01</td>\n",
       "      <td>232177.51</td>\n",
       "      <td>12</td>\n",
       "    </tr>\n",
       "    <tr>\n",
       "      <th>1</th>\n",
       "      <td>99</td>\n",
       "      <td>50</td>\n",
       "      <td>2009</td>\n",
       "      <td>2009-12-07</td>\n",
       "      <td>207908.73</td>\n",
       "      <td>12</td>\n",
       "    </tr>\n",
       "    <tr>\n",
       "      <th>2</th>\n",
       "      <td>101</td>\n",
       "      <td>51</td>\n",
       "      <td>2009</td>\n",
       "      <td>2009-12-14</td>\n",
       "      <td>207685.87</td>\n",
       "      <td>12</td>\n",
       "    </tr>\n",
       "    <tr>\n",
       "      <th>3</th>\n",
       "      <td>103</td>\n",
       "      <td>52</td>\n",
       "      <td>2009</td>\n",
       "      <td>2009-12-21</td>\n",
       "      <td>35731.90</td>\n",
       "      <td>12</td>\n",
       "    </tr>\n",
       "    <tr>\n",
       "      <th>4</th>\n",
       "      <td>0</td>\n",
       "      <td>1</td>\n",
       "      <td>2010</td>\n",
       "      <td>2010-01-04</td>\n",
       "      <td>167636.95</td>\n",
       "      <td>1</td>\n",
       "    </tr>\n",
       "    <tr>\n",
       "      <th>...</th>\n",
       "      <td>...</td>\n",
       "      <td>...</td>\n",
       "      <td>...</td>\n",
       "      <td>...</td>\n",
       "      <td>...</td>\n",
       "      <td>...</td>\n",
       "    </tr>\n",
       "    <tr>\n",
       "      <th>99</th>\n",
       "      <td>89</td>\n",
       "      <td>45</td>\n",
       "      <td>2011</td>\n",
       "      <td>2011-11-07</td>\n",
       "      <td>263717.33</td>\n",
       "      <td>11</td>\n",
       "    </tr>\n",
       "    <tr>\n",
       "      <th>100</th>\n",
       "      <td>91</td>\n",
       "      <td>46</td>\n",
       "      <td>2011</td>\n",
       "      <td>2011-11-14</td>\n",
       "      <td>276216.98</td>\n",
       "      <td>11</td>\n",
       "    </tr>\n",
       "    <tr>\n",
       "      <th>101</th>\n",
       "      <td>93</td>\n",
       "      <td>47</td>\n",
       "      <td>2011</td>\n",
       "      <td>2011-11-21</td>\n",
       "      <td>248234.58</td>\n",
       "      <td>11</td>\n",
       "    </tr>\n",
       "    <tr>\n",
       "      <th>102</th>\n",
       "      <td>95</td>\n",
       "      <td>48</td>\n",
       "      <td>2011</td>\n",
       "      <td>2011-11-28</td>\n",
       "      <td>250833.04</td>\n",
       "      <td>11</td>\n",
       "    </tr>\n",
       "    <tr>\n",
       "      <th>103</th>\n",
       "      <td>98</td>\n",
       "      <td>49</td>\n",
       "      <td>2011</td>\n",
       "      <td>2011-12-05</td>\n",
       "      <td>408044.97</td>\n",
       "      <td>12</td>\n",
       "    </tr>\n",
       "  </tbody>\n",
       "</table>\n",
       "<p>104 rows × 6 columns</p>\n",
       "</div>"
      ],
      "text/plain": [
       "     Unnamed: 0  week  year       date  total_revenue  month\n",
       "0            96    49  2009 2009-12-01      232177.51     12\n",
       "1            99    50  2009 2009-12-07      207908.73     12\n",
       "2           101    51  2009 2009-12-14      207685.87     12\n",
       "3           103    52  2009 2009-12-21       35731.90     12\n",
       "4             0     1  2010 2010-01-04      167636.95      1\n",
       "..          ...   ...   ...        ...            ...    ...\n",
       "99           89    45  2011 2011-11-07      263717.33     11\n",
       "100          91    46  2011 2011-11-14      276216.98     11\n",
       "101          93    47  2011 2011-11-21      248234.58     11\n",
       "102          95    48  2011 2011-11-28      250833.04     11\n",
       "103          98    49  2011 2011-12-05      408044.97     12\n",
       "\n",
       "[104 rows x 6 columns]"
      ]
     },
     "execution_count": 26,
     "metadata": {},
     "output_type": "execute_result"
    }
   ],
   "source": [
    "rev"
   ]
  },
  {
   "cell_type": "code",
   "execution_count": 27,
   "id": "cfb74807-80e3-460b-b4f4-1a84a7998233",
   "metadata": {},
   "outputs": [],
   "source": [
    "totes_rev= rev.copy()"
   ]
  },
  {
   "cell_type": "code",
   "execution_count": 28,
   "id": "f60c68d1-284d-4950-9211-cc420390eb8e",
   "metadata": {},
   "outputs": [],
   "source": [
    "rev=pd.get_dummies(rev,columns= ['month'])"
   ]
  },
  {
   "cell_type": "code",
   "execution_count": 29,
   "id": "316e0b04-625d-4c26-8c75-56b297d986aa",
   "metadata": {},
   "outputs": [
    {
     "data": {
      "text/html": [
       "<div>\n",
       "<style scoped>\n",
       "    .dataframe tbody tr th:only-of-type {\n",
       "        vertical-align: middle;\n",
       "    }\n",
       "\n",
       "    .dataframe tbody tr th {\n",
       "        vertical-align: top;\n",
       "    }\n",
       "\n",
       "    .dataframe thead th {\n",
       "        text-align: right;\n",
       "    }\n",
       "</style>\n",
       "<table border=\"1\" class=\"dataframe\">\n",
       "  <thead>\n",
       "    <tr style=\"text-align: right;\">\n",
       "      <th></th>\n",
       "      <th>Unnamed: 0</th>\n",
       "      <th>week</th>\n",
       "      <th>year</th>\n",
       "      <th>date</th>\n",
       "      <th>total_revenue</th>\n",
       "      <th>month_1</th>\n",
       "      <th>month_2</th>\n",
       "      <th>month_3</th>\n",
       "      <th>month_4</th>\n",
       "      <th>month_5</th>\n",
       "      <th>month_6</th>\n",
       "      <th>month_7</th>\n",
       "      <th>month_8</th>\n",
       "      <th>month_9</th>\n",
       "      <th>month_10</th>\n",
       "      <th>month_11</th>\n",
       "      <th>month_12</th>\n",
       "    </tr>\n",
       "  </thead>\n",
       "  <tbody>\n",
       "    <tr>\n",
       "      <th>0</th>\n",
       "      <td>96</td>\n",
       "      <td>49</td>\n",
       "      <td>2009</td>\n",
       "      <td>2009-12-01</td>\n",
       "      <td>232177.51</td>\n",
       "      <td>0</td>\n",
       "      <td>0</td>\n",
       "      <td>0</td>\n",
       "      <td>0</td>\n",
       "      <td>0</td>\n",
       "      <td>0</td>\n",
       "      <td>0</td>\n",
       "      <td>0</td>\n",
       "      <td>0</td>\n",
       "      <td>0</td>\n",
       "      <td>0</td>\n",
       "      <td>1</td>\n",
       "    </tr>\n",
       "    <tr>\n",
       "      <th>1</th>\n",
       "      <td>99</td>\n",
       "      <td>50</td>\n",
       "      <td>2009</td>\n",
       "      <td>2009-12-07</td>\n",
       "      <td>207908.73</td>\n",
       "      <td>0</td>\n",
       "      <td>0</td>\n",
       "      <td>0</td>\n",
       "      <td>0</td>\n",
       "      <td>0</td>\n",
       "      <td>0</td>\n",
       "      <td>0</td>\n",
       "      <td>0</td>\n",
       "      <td>0</td>\n",
       "      <td>0</td>\n",
       "      <td>0</td>\n",
       "      <td>1</td>\n",
       "    </tr>\n",
       "    <tr>\n",
       "      <th>2</th>\n",
       "      <td>101</td>\n",
       "      <td>51</td>\n",
       "      <td>2009</td>\n",
       "      <td>2009-12-14</td>\n",
       "      <td>207685.87</td>\n",
       "      <td>0</td>\n",
       "      <td>0</td>\n",
       "      <td>0</td>\n",
       "      <td>0</td>\n",
       "      <td>0</td>\n",
       "      <td>0</td>\n",
       "      <td>0</td>\n",
       "      <td>0</td>\n",
       "      <td>0</td>\n",
       "      <td>0</td>\n",
       "      <td>0</td>\n",
       "      <td>1</td>\n",
       "    </tr>\n",
       "    <tr>\n",
       "      <th>3</th>\n",
       "      <td>103</td>\n",
       "      <td>52</td>\n",
       "      <td>2009</td>\n",
       "      <td>2009-12-21</td>\n",
       "      <td>35731.90</td>\n",
       "      <td>0</td>\n",
       "      <td>0</td>\n",
       "      <td>0</td>\n",
       "      <td>0</td>\n",
       "      <td>0</td>\n",
       "      <td>0</td>\n",
       "      <td>0</td>\n",
       "      <td>0</td>\n",
       "      <td>0</td>\n",
       "      <td>0</td>\n",
       "      <td>0</td>\n",
       "      <td>1</td>\n",
       "    </tr>\n",
       "    <tr>\n",
       "      <th>4</th>\n",
       "      <td>0</td>\n",
       "      <td>1</td>\n",
       "      <td>2010</td>\n",
       "      <td>2010-01-04</td>\n",
       "      <td>167636.95</td>\n",
       "      <td>1</td>\n",
       "      <td>0</td>\n",
       "      <td>0</td>\n",
       "      <td>0</td>\n",
       "      <td>0</td>\n",
       "      <td>0</td>\n",
       "      <td>0</td>\n",
       "      <td>0</td>\n",
       "      <td>0</td>\n",
       "      <td>0</td>\n",
       "      <td>0</td>\n",
       "      <td>0</td>\n",
       "    </tr>\n",
       "    <tr>\n",
       "      <th>...</th>\n",
       "      <td>...</td>\n",
       "      <td>...</td>\n",
       "      <td>...</td>\n",
       "      <td>...</td>\n",
       "      <td>...</td>\n",
       "      <td>...</td>\n",
       "      <td>...</td>\n",
       "      <td>...</td>\n",
       "      <td>...</td>\n",
       "      <td>...</td>\n",
       "      <td>...</td>\n",
       "      <td>...</td>\n",
       "      <td>...</td>\n",
       "      <td>...</td>\n",
       "      <td>...</td>\n",
       "      <td>...</td>\n",
       "      <td>...</td>\n",
       "    </tr>\n",
       "    <tr>\n",
       "      <th>99</th>\n",
       "      <td>89</td>\n",
       "      <td>45</td>\n",
       "      <td>2011</td>\n",
       "      <td>2011-11-07</td>\n",
       "      <td>263717.33</td>\n",
       "      <td>0</td>\n",
       "      <td>0</td>\n",
       "      <td>0</td>\n",
       "      <td>0</td>\n",
       "      <td>0</td>\n",
       "      <td>0</td>\n",
       "      <td>0</td>\n",
       "      <td>0</td>\n",
       "      <td>0</td>\n",
       "      <td>0</td>\n",
       "      <td>1</td>\n",
       "      <td>0</td>\n",
       "    </tr>\n",
       "    <tr>\n",
       "      <th>100</th>\n",
       "      <td>91</td>\n",
       "      <td>46</td>\n",
       "      <td>2011</td>\n",
       "      <td>2011-11-14</td>\n",
       "      <td>276216.98</td>\n",
       "      <td>0</td>\n",
       "      <td>0</td>\n",
       "      <td>0</td>\n",
       "      <td>0</td>\n",
       "      <td>0</td>\n",
       "      <td>0</td>\n",
       "      <td>0</td>\n",
       "      <td>0</td>\n",
       "      <td>0</td>\n",
       "      <td>0</td>\n",
       "      <td>1</td>\n",
       "      <td>0</td>\n",
       "    </tr>\n",
       "    <tr>\n",
       "      <th>101</th>\n",
       "      <td>93</td>\n",
       "      <td>47</td>\n",
       "      <td>2011</td>\n",
       "      <td>2011-11-21</td>\n",
       "      <td>248234.58</td>\n",
       "      <td>0</td>\n",
       "      <td>0</td>\n",
       "      <td>0</td>\n",
       "      <td>0</td>\n",
       "      <td>0</td>\n",
       "      <td>0</td>\n",
       "      <td>0</td>\n",
       "      <td>0</td>\n",
       "      <td>0</td>\n",
       "      <td>0</td>\n",
       "      <td>1</td>\n",
       "      <td>0</td>\n",
       "    </tr>\n",
       "    <tr>\n",
       "      <th>102</th>\n",
       "      <td>95</td>\n",
       "      <td>48</td>\n",
       "      <td>2011</td>\n",
       "      <td>2011-11-28</td>\n",
       "      <td>250833.04</td>\n",
       "      <td>0</td>\n",
       "      <td>0</td>\n",
       "      <td>0</td>\n",
       "      <td>0</td>\n",
       "      <td>0</td>\n",
       "      <td>0</td>\n",
       "      <td>0</td>\n",
       "      <td>0</td>\n",
       "      <td>0</td>\n",
       "      <td>0</td>\n",
       "      <td>1</td>\n",
       "      <td>0</td>\n",
       "    </tr>\n",
       "    <tr>\n",
       "      <th>103</th>\n",
       "      <td>98</td>\n",
       "      <td>49</td>\n",
       "      <td>2011</td>\n",
       "      <td>2011-12-05</td>\n",
       "      <td>408044.97</td>\n",
       "      <td>0</td>\n",
       "      <td>0</td>\n",
       "      <td>0</td>\n",
       "      <td>0</td>\n",
       "      <td>0</td>\n",
       "      <td>0</td>\n",
       "      <td>0</td>\n",
       "      <td>0</td>\n",
       "      <td>0</td>\n",
       "      <td>0</td>\n",
       "      <td>0</td>\n",
       "      <td>1</td>\n",
       "    </tr>\n",
       "  </tbody>\n",
       "</table>\n",
       "<p>104 rows × 17 columns</p>\n",
       "</div>"
      ],
      "text/plain": [
       "     Unnamed: 0  week  year       date  total_revenue  month_1  month_2  \\\n",
       "0            96    49  2009 2009-12-01      232177.51        0        0   \n",
       "1            99    50  2009 2009-12-07      207908.73        0        0   \n",
       "2           101    51  2009 2009-12-14      207685.87        0        0   \n",
       "3           103    52  2009 2009-12-21       35731.90        0        0   \n",
       "4             0     1  2010 2010-01-04      167636.95        1        0   \n",
       "..          ...   ...   ...        ...            ...      ...      ...   \n",
       "99           89    45  2011 2011-11-07      263717.33        0        0   \n",
       "100          91    46  2011 2011-11-14      276216.98        0        0   \n",
       "101          93    47  2011 2011-11-21      248234.58        0        0   \n",
       "102          95    48  2011 2011-11-28      250833.04        0        0   \n",
       "103          98    49  2011 2011-12-05      408044.97        0        0   \n",
       "\n",
       "     month_3  month_4  month_5  month_6  month_7  month_8  month_9  month_10  \\\n",
       "0          0        0        0        0        0        0        0         0   \n",
       "1          0        0        0        0        0        0        0         0   \n",
       "2          0        0        0        0        0        0        0         0   \n",
       "3          0        0        0        0        0        0        0         0   \n",
       "4          0        0        0        0        0        0        0         0   \n",
       "..       ...      ...      ...      ...      ...      ...      ...       ...   \n",
       "99         0        0        0        0        0        0        0         0   \n",
       "100        0        0        0        0        0        0        0         0   \n",
       "101        0        0        0        0        0        0        0         0   \n",
       "102        0        0        0        0        0        0        0         0   \n",
       "103        0        0        0        0        0        0        0         0   \n",
       "\n",
       "     month_11  month_12  \n",
       "0           0         1  \n",
       "1           0         1  \n",
       "2           0         1  \n",
       "3           0         1  \n",
       "4           0         0  \n",
       "..        ...       ...  \n",
       "99          1         0  \n",
       "100         1         0  \n",
       "101         1         0  \n",
       "102         1         0  \n",
       "103         0         1  \n",
       "\n",
       "[104 rows x 17 columns]"
      ]
     },
     "execution_count": 29,
     "metadata": {},
     "output_type": "execute_result"
    }
   ],
   "source": [
    "rev"
   ]
  },
  {
   "cell_type": "code",
   "execution_count": 30,
   "id": "b9f73437-213c-415a-b708-8fb5d279c034",
   "metadata": {},
   "outputs": [],
   "source": [
    "rev.drop(columns=['Unnamed: 0','week','year','date'], axis= 1, inplace=True)"
   ]
  },
  {
   "cell_type": "code",
   "execution_count": 31,
   "id": "4cfbc153-2c7a-4392-8194-ab6eca2bbc48",
   "metadata": {},
   "outputs": [
    {
     "data": {
      "text/html": [
       "<div>\n",
       "<style scoped>\n",
       "    .dataframe tbody tr th:only-of-type {\n",
       "        vertical-align: middle;\n",
       "    }\n",
       "\n",
       "    .dataframe tbody tr th {\n",
       "        vertical-align: top;\n",
       "    }\n",
       "\n",
       "    .dataframe thead th {\n",
       "        text-align: right;\n",
       "    }\n",
       "</style>\n",
       "<table border=\"1\" class=\"dataframe\">\n",
       "  <thead>\n",
       "    <tr style=\"text-align: right;\">\n",
       "      <th></th>\n",
       "      <th>total_revenue</th>\n",
       "      <th>month_1</th>\n",
       "      <th>month_2</th>\n",
       "      <th>month_3</th>\n",
       "      <th>month_4</th>\n",
       "      <th>month_5</th>\n",
       "      <th>month_6</th>\n",
       "      <th>month_7</th>\n",
       "      <th>month_8</th>\n",
       "      <th>month_9</th>\n",
       "      <th>month_10</th>\n",
       "      <th>month_11</th>\n",
       "      <th>month_12</th>\n",
       "    </tr>\n",
       "  </thead>\n",
       "  <tbody>\n",
       "    <tr>\n",
       "      <th>0</th>\n",
       "      <td>232177.51</td>\n",
       "      <td>0</td>\n",
       "      <td>0</td>\n",
       "      <td>0</td>\n",
       "      <td>0</td>\n",
       "      <td>0</td>\n",
       "      <td>0</td>\n",
       "      <td>0</td>\n",
       "      <td>0</td>\n",
       "      <td>0</td>\n",
       "      <td>0</td>\n",
       "      <td>0</td>\n",
       "      <td>1</td>\n",
       "    </tr>\n",
       "    <tr>\n",
       "      <th>1</th>\n",
       "      <td>207908.73</td>\n",
       "      <td>0</td>\n",
       "      <td>0</td>\n",
       "      <td>0</td>\n",
       "      <td>0</td>\n",
       "      <td>0</td>\n",
       "      <td>0</td>\n",
       "      <td>0</td>\n",
       "      <td>0</td>\n",
       "      <td>0</td>\n",
       "      <td>0</td>\n",
       "      <td>0</td>\n",
       "      <td>1</td>\n",
       "    </tr>\n",
       "    <tr>\n",
       "      <th>2</th>\n",
       "      <td>207685.87</td>\n",
       "      <td>0</td>\n",
       "      <td>0</td>\n",
       "      <td>0</td>\n",
       "      <td>0</td>\n",
       "      <td>0</td>\n",
       "      <td>0</td>\n",
       "      <td>0</td>\n",
       "      <td>0</td>\n",
       "      <td>0</td>\n",
       "      <td>0</td>\n",
       "      <td>0</td>\n",
       "      <td>1</td>\n",
       "    </tr>\n",
       "    <tr>\n",
       "      <th>3</th>\n",
       "      <td>35731.90</td>\n",
       "      <td>0</td>\n",
       "      <td>0</td>\n",
       "      <td>0</td>\n",
       "      <td>0</td>\n",
       "      <td>0</td>\n",
       "      <td>0</td>\n",
       "      <td>0</td>\n",
       "      <td>0</td>\n",
       "      <td>0</td>\n",
       "      <td>0</td>\n",
       "      <td>0</td>\n",
       "      <td>1</td>\n",
       "    </tr>\n",
       "    <tr>\n",
       "      <th>4</th>\n",
       "      <td>167636.95</td>\n",
       "      <td>1</td>\n",
       "      <td>0</td>\n",
       "      <td>0</td>\n",
       "      <td>0</td>\n",
       "      <td>0</td>\n",
       "      <td>0</td>\n",
       "      <td>0</td>\n",
       "      <td>0</td>\n",
       "      <td>0</td>\n",
       "      <td>0</td>\n",
       "      <td>0</td>\n",
       "      <td>0</td>\n",
       "    </tr>\n",
       "    <tr>\n",
       "      <th>...</th>\n",
       "      <td>...</td>\n",
       "      <td>...</td>\n",
       "      <td>...</td>\n",
       "      <td>...</td>\n",
       "      <td>...</td>\n",
       "      <td>...</td>\n",
       "      <td>...</td>\n",
       "      <td>...</td>\n",
       "      <td>...</td>\n",
       "      <td>...</td>\n",
       "      <td>...</td>\n",
       "      <td>...</td>\n",
       "      <td>...</td>\n",
       "    </tr>\n",
       "    <tr>\n",
       "      <th>99</th>\n",
       "      <td>263717.33</td>\n",
       "      <td>0</td>\n",
       "      <td>0</td>\n",
       "      <td>0</td>\n",
       "      <td>0</td>\n",
       "      <td>0</td>\n",
       "      <td>0</td>\n",
       "      <td>0</td>\n",
       "      <td>0</td>\n",
       "      <td>0</td>\n",
       "      <td>0</td>\n",
       "      <td>1</td>\n",
       "      <td>0</td>\n",
       "    </tr>\n",
       "    <tr>\n",
       "      <th>100</th>\n",
       "      <td>276216.98</td>\n",
       "      <td>0</td>\n",
       "      <td>0</td>\n",
       "      <td>0</td>\n",
       "      <td>0</td>\n",
       "      <td>0</td>\n",
       "      <td>0</td>\n",
       "      <td>0</td>\n",
       "      <td>0</td>\n",
       "      <td>0</td>\n",
       "      <td>0</td>\n",
       "      <td>1</td>\n",
       "      <td>0</td>\n",
       "    </tr>\n",
       "    <tr>\n",
       "      <th>101</th>\n",
       "      <td>248234.58</td>\n",
       "      <td>0</td>\n",
       "      <td>0</td>\n",
       "      <td>0</td>\n",
       "      <td>0</td>\n",
       "      <td>0</td>\n",
       "      <td>0</td>\n",
       "      <td>0</td>\n",
       "      <td>0</td>\n",
       "      <td>0</td>\n",
       "      <td>0</td>\n",
       "      <td>1</td>\n",
       "      <td>0</td>\n",
       "    </tr>\n",
       "    <tr>\n",
       "      <th>102</th>\n",
       "      <td>250833.04</td>\n",
       "      <td>0</td>\n",
       "      <td>0</td>\n",
       "      <td>0</td>\n",
       "      <td>0</td>\n",
       "      <td>0</td>\n",
       "      <td>0</td>\n",
       "      <td>0</td>\n",
       "      <td>0</td>\n",
       "      <td>0</td>\n",
       "      <td>0</td>\n",
       "      <td>1</td>\n",
       "      <td>0</td>\n",
       "    </tr>\n",
       "    <tr>\n",
       "      <th>103</th>\n",
       "      <td>408044.97</td>\n",
       "      <td>0</td>\n",
       "      <td>0</td>\n",
       "      <td>0</td>\n",
       "      <td>0</td>\n",
       "      <td>0</td>\n",
       "      <td>0</td>\n",
       "      <td>0</td>\n",
       "      <td>0</td>\n",
       "      <td>0</td>\n",
       "      <td>0</td>\n",
       "      <td>0</td>\n",
       "      <td>1</td>\n",
       "    </tr>\n",
       "  </tbody>\n",
       "</table>\n",
       "<p>104 rows × 13 columns</p>\n",
       "</div>"
      ],
      "text/plain": [
       "     total_revenue  month_1  month_2  month_3  month_4  month_5  month_6  \\\n",
       "0        232177.51        0        0        0        0        0        0   \n",
       "1        207908.73        0        0        0        0        0        0   \n",
       "2        207685.87        0        0        0        0        0        0   \n",
       "3         35731.90        0        0        0        0        0        0   \n",
       "4        167636.95        1        0        0        0        0        0   \n",
       "..             ...      ...      ...      ...      ...      ...      ...   \n",
       "99       263717.33        0        0        0        0        0        0   \n",
       "100      276216.98        0        0        0        0        0        0   \n",
       "101      248234.58        0        0        0        0        0        0   \n",
       "102      250833.04        0        0        0        0        0        0   \n",
       "103      408044.97        0        0        0        0        0        0   \n",
       "\n",
       "     month_7  month_8  month_9  month_10  month_11  month_12  \n",
       "0          0        0        0         0         0         1  \n",
       "1          0        0        0         0         0         1  \n",
       "2          0        0        0         0         0         1  \n",
       "3          0        0        0         0         0         1  \n",
       "4          0        0        0         0         0         0  \n",
       "..       ...      ...      ...       ...       ...       ...  \n",
       "99         0        0        0         0         1         0  \n",
       "100        0        0        0         0         1         0  \n",
       "101        0        0        0         0         1         0  \n",
       "102        0        0        0         0         1         0  \n",
       "103        0        0        0         0         0         1  \n",
       "\n",
       "[104 rows x 13 columns]"
      ]
     },
     "execution_count": 31,
     "metadata": {},
     "output_type": "execute_result"
    }
   ],
   "source": [
    "rev\n"
   ]
  },
  {
   "cell_type": "code",
   "execution_count": 32,
   "id": "2a0e0e99-8e63-4d6f-a168-09d43a627a54",
   "metadata": {},
   "outputs": [],
   "source": [
    "rev['trend']= range(0,rev.shape[0])"
   ]
  },
  {
   "cell_type": "code",
   "execution_count": 33,
   "id": "0b75a049-9fd9-4572-b42a-8da9d996ab3c",
   "metadata": {},
   "outputs": [
    {
     "data": {
      "text/html": [
       "<div>\n",
       "<style scoped>\n",
       "    .dataframe tbody tr th:only-of-type {\n",
       "        vertical-align: middle;\n",
       "    }\n",
       "\n",
       "    .dataframe tbody tr th {\n",
       "        vertical-align: top;\n",
       "    }\n",
       "\n",
       "    .dataframe thead th {\n",
       "        text-align: right;\n",
       "    }\n",
       "</style>\n",
       "<table border=\"1\" class=\"dataframe\">\n",
       "  <thead>\n",
       "    <tr style=\"text-align: right;\">\n",
       "      <th></th>\n",
       "      <th>total_revenue</th>\n",
       "      <th>month_1</th>\n",
       "      <th>month_2</th>\n",
       "      <th>month_3</th>\n",
       "      <th>month_4</th>\n",
       "      <th>month_5</th>\n",
       "      <th>month_6</th>\n",
       "      <th>month_7</th>\n",
       "      <th>month_8</th>\n",
       "      <th>month_9</th>\n",
       "      <th>month_10</th>\n",
       "      <th>month_11</th>\n",
       "      <th>month_12</th>\n",
       "      <th>trend</th>\n",
       "    </tr>\n",
       "  </thead>\n",
       "  <tbody>\n",
       "    <tr>\n",
       "      <th>0</th>\n",
       "      <td>232177.51</td>\n",
       "      <td>0</td>\n",
       "      <td>0</td>\n",
       "      <td>0</td>\n",
       "      <td>0</td>\n",
       "      <td>0</td>\n",
       "      <td>0</td>\n",
       "      <td>0</td>\n",
       "      <td>0</td>\n",
       "      <td>0</td>\n",
       "      <td>0</td>\n",
       "      <td>0</td>\n",
       "      <td>1</td>\n",
       "      <td>0</td>\n",
       "    </tr>\n",
       "    <tr>\n",
       "      <th>1</th>\n",
       "      <td>207908.73</td>\n",
       "      <td>0</td>\n",
       "      <td>0</td>\n",
       "      <td>0</td>\n",
       "      <td>0</td>\n",
       "      <td>0</td>\n",
       "      <td>0</td>\n",
       "      <td>0</td>\n",
       "      <td>0</td>\n",
       "      <td>0</td>\n",
       "      <td>0</td>\n",
       "      <td>0</td>\n",
       "      <td>1</td>\n",
       "      <td>1</td>\n",
       "    </tr>\n",
       "    <tr>\n",
       "      <th>2</th>\n",
       "      <td>207685.87</td>\n",
       "      <td>0</td>\n",
       "      <td>0</td>\n",
       "      <td>0</td>\n",
       "      <td>0</td>\n",
       "      <td>0</td>\n",
       "      <td>0</td>\n",
       "      <td>0</td>\n",
       "      <td>0</td>\n",
       "      <td>0</td>\n",
       "      <td>0</td>\n",
       "      <td>0</td>\n",
       "      <td>1</td>\n",
       "      <td>2</td>\n",
       "    </tr>\n",
       "    <tr>\n",
       "      <th>3</th>\n",
       "      <td>35731.90</td>\n",
       "      <td>0</td>\n",
       "      <td>0</td>\n",
       "      <td>0</td>\n",
       "      <td>0</td>\n",
       "      <td>0</td>\n",
       "      <td>0</td>\n",
       "      <td>0</td>\n",
       "      <td>0</td>\n",
       "      <td>0</td>\n",
       "      <td>0</td>\n",
       "      <td>0</td>\n",
       "      <td>1</td>\n",
       "      <td>3</td>\n",
       "    </tr>\n",
       "    <tr>\n",
       "      <th>4</th>\n",
       "      <td>167636.95</td>\n",
       "      <td>1</td>\n",
       "      <td>0</td>\n",
       "      <td>0</td>\n",
       "      <td>0</td>\n",
       "      <td>0</td>\n",
       "      <td>0</td>\n",
       "      <td>0</td>\n",
       "      <td>0</td>\n",
       "      <td>0</td>\n",
       "      <td>0</td>\n",
       "      <td>0</td>\n",
       "      <td>0</td>\n",
       "      <td>4</td>\n",
       "    </tr>\n",
       "    <tr>\n",
       "      <th>...</th>\n",
       "      <td>...</td>\n",
       "      <td>...</td>\n",
       "      <td>...</td>\n",
       "      <td>...</td>\n",
       "      <td>...</td>\n",
       "      <td>...</td>\n",
       "      <td>...</td>\n",
       "      <td>...</td>\n",
       "      <td>...</td>\n",
       "      <td>...</td>\n",
       "      <td>...</td>\n",
       "      <td>...</td>\n",
       "      <td>...</td>\n",
       "      <td>...</td>\n",
       "    </tr>\n",
       "    <tr>\n",
       "      <th>99</th>\n",
       "      <td>263717.33</td>\n",
       "      <td>0</td>\n",
       "      <td>0</td>\n",
       "      <td>0</td>\n",
       "      <td>0</td>\n",
       "      <td>0</td>\n",
       "      <td>0</td>\n",
       "      <td>0</td>\n",
       "      <td>0</td>\n",
       "      <td>0</td>\n",
       "      <td>0</td>\n",
       "      <td>1</td>\n",
       "      <td>0</td>\n",
       "      <td>99</td>\n",
       "    </tr>\n",
       "    <tr>\n",
       "      <th>100</th>\n",
       "      <td>276216.98</td>\n",
       "      <td>0</td>\n",
       "      <td>0</td>\n",
       "      <td>0</td>\n",
       "      <td>0</td>\n",
       "      <td>0</td>\n",
       "      <td>0</td>\n",
       "      <td>0</td>\n",
       "      <td>0</td>\n",
       "      <td>0</td>\n",
       "      <td>0</td>\n",
       "      <td>1</td>\n",
       "      <td>0</td>\n",
       "      <td>100</td>\n",
       "    </tr>\n",
       "    <tr>\n",
       "      <th>101</th>\n",
       "      <td>248234.58</td>\n",
       "      <td>0</td>\n",
       "      <td>0</td>\n",
       "      <td>0</td>\n",
       "      <td>0</td>\n",
       "      <td>0</td>\n",
       "      <td>0</td>\n",
       "      <td>0</td>\n",
       "      <td>0</td>\n",
       "      <td>0</td>\n",
       "      <td>0</td>\n",
       "      <td>1</td>\n",
       "      <td>0</td>\n",
       "      <td>101</td>\n",
       "    </tr>\n",
       "    <tr>\n",
       "      <th>102</th>\n",
       "      <td>250833.04</td>\n",
       "      <td>0</td>\n",
       "      <td>0</td>\n",
       "      <td>0</td>\n",
       "      <td>0</td>\n",
       "      <td>0</td>\n",
       "      <td>0</td>\n",
       "      <td>0</td>\n",
       "      <td>0</td>\n",
       "      <td>0</td>\n",
       "      <td>0</td>\n",
       "      <td>1</td>\n",
       "      <td>0</td>\n",
       "      <td>102</td>\n",
       "    </tr>\n",
       "    <tr>\n",
       "      <th>103</th>\n",
       "      <td>408044.97</td>\n",
       "      <td>0</td>\n",
       "      <td>0</td>\n",
       "      <td>0</td>\n",
       "      <td>0</td>\n",
       "      <td>0</td>\n",
       "      <td>0</td>\n",
       "      <td>0</td>\n",
       "      <td>0</td>\n",
       "      <td>0</td>\n",
       "      <td>0</td>\n",
       "      <td>0</td>\n",
       "      <td>1</td>\n",
       "      <td>103</td>\n",
       "    </tr>\n",
       "  </tbody>\n",
       "</table>\n",
       "<p>104 rows × 14 columns</p>\n",
       "</div>"
      ],
      "text/plain": [
       "     total_revenue  month_1  month_2  month_3  month_4  month_5  month_6  \\\n",
       "0        232177.51        0        0        0        0        0        0   \n",
       "1        207908.73        0        0        0        0        0        0   \n",
       "2        207685.87        0        0        0        0        0        0   \n",
       "3         35731.90        0        0        0        0        0        0   \n",
       "4        167636.95        1        0        0        0        0        0   \n",
       "..             ...      ...      ...      ...      ...      ...      ...   \n",
       "99       263717.33        0        0        0        0        0        0   \n",
       "100      276216.98        0        0        0        0        0        0   \n",
       "101      248234.58        0        0        0        0        0        0   \n",
       "102      250833.04        0        0        0        0        0        0   \n",
       "103      408044.97        0        0        0        0        0        0   \n",
       "\n",
       "     month_7  month_8  month_9  month_10  month_11  month_12  trend  \n",
       "0          0        0        0         0         0         1      0  \n",
       "1          0        0        0         0         0         1      1  \n",
       "2          0        0        0         0         0         1      2  \n",
       "3          0        0        0         0         0         1      3  \n",
       "4          0        0        0         0         0         0      4  \n",
       "..       ...      ...      ...       ...       ...       ...    ...  \n",
       "99         0        0        0         0         1         0     99  \n",
       "100        0        0        0         0         1         0    100  \n",
       "101        0        0        0         0         1         0    101  \n",
       "102        0        0        0         0         1         0    102  \n",
       "103        0        0        0         0         0         1    103  \n",
       "\n",
       "[104 rows x 14 columns]"
      ]
     },
     "execution_count": 33,
     "metadata": {},
     "output_type": "execute_result"
    }
   ],
   "source": [
    "rev"
   ]
  },
  {
   "cell_type": "code",
   "execution_count": 34,
   "id": "0b7ff493-7ce5-405a-b4fb-f08614b0b93a",
   "metadata": {},
   "outputs": [],
   "source": [
    "from sklearn.linear_model import LinearRegression"
   ]
  },
  {
   "cell_type": "code",
   "execution_count": 35,
   "id": "b6652084-5f74-4e24-bf20-416cd785a189",
   "metadata": {},
   "outputs": [],
   "source": [
    "lr=LinearRegression()"
   ]
  },
  {
   "cell_type": "code",
   "execution_count": 36,
   "id": "941aa9bf-f42a-4297-980c-5d9b555ffdc3",
   "metadata": {},
   "outputs": [],
   "source": [
    "X=rev.iloc[:,1:]"
   ]
  },
  {
   "cell_type": "code",
   "execution_count": 37,
   "id": "af72abf6-1b4a-44b6-afbe-c54fe0b43779",
   "metadata": {},
   "outputs": [
    {
     "data": {
      "text/html": [
       "<div>\n",
       "<style scoped>\n",
       "    .dataframe tbody tr th:only-of-type {\n",
       "        vertical-align: middle;\n",
       "    }\n",
       "\n",
       "    .dataframe tbody tr th {\n",
       "        vertical-align: top;\n",
       "    }\n",
       "\n",
       "    .dataframe thead th {\n",
       "        text-align: right;\n",
       "    }\n",
       "</style>\n",
       "<table border=\"1\" class=\"dataframe\">\n",
       "  <thead>\n",
       "    <tr style=\"text-align: right;\">\n",
       "      <th></th>\n",
       "      <th>month_1</th>\n",
       "      <th>month_2</th>\n",
       "      <th>month_3</th>\n",
       "      <th>month_4</th>\n",
       "      <th>month_5</th>\n",
       "      <th>month_6</th>\n",
       "      <th>month_7</th>\n",
       "      <th>month_8</th>\n",
       "      <th>month_9</th>\n",
       "      <th>month_10</th>\n",
       "      <th>month_11</th>\n",
       "      <th>month_12</th>\n",
       "      <th>trend</th>\n",
       "    </tr>\n",
       "  </thead>\n",
       "  <tbody>\n",
       "    <tr>\n",
       "      <th>0</th>\n",
       "      <td>0</td>\n",
       "      <td>0</td>\n",
       "      <td>0</td>\n",
       "      <td>0</td>\n",
       "      <td>0</td>\n",
       "      <td>0</td>\n",
       "      <td>0</td>\n",
       "      <td>0</td>\n",
       "      <td>0</td>\n",
       "      <td>0</td>\n",
       "      <td>0</td>\n",
       "      <td>1</td>\n",
       "      <td>0</td>\n",
       "    </tr>\n",
       "    <tr>\n",
       "      <th>1</th>\n",
       "      <td>0</td>\n",
       "      <td>0</td>\n",
       "      <td>0</td>\n",
       "      <td>0</td>\n",
       "      <td>0</td>\n",
       "      <td>0</td>\n",
       "      <td>0</td>\n",
       "      <td>0</td>\n",
       "      <td>0</td>\n",
       "      <td>0</td>\n",
       "      <td>0</td>\n",
       "      <td>1</td>\n",
       "      <td>1</td>\n",
       "    </tr>\n",
       "    <tr>\n",
       "      <th>2</th>\n",
       "      <td>0</td>\n",
       "      <td>0</td>\n",
       "      <td>0</td>\n",
       "      <td>0</td>\n",
       "      <td>0</td>\n",
       "      <td>0</td>\n",
       "      <td>0</td>\n",
       "      <td>0</td>\n",
       "      <td>0</td>\n",
       "      <td>0</td>\n",
       "      <td>0</td>\n",
       "      <td>1</td>\n",
       "      <td>2</td>\n",
       "    </tr>\n",
       "    <tr>\n",
       "      <th>3</th>\n",
       "      <td>0</td>\n",
       "      <td>0</td>\n",
       "      <td>0</td>\n",
       "      <td>0</td>\n",
       "      <td>0</td>\n",
       "      <td>0</td>\n",
       "      <td>0</td>\n",
       "      <td>0</td>\n",
       "      <td>0</td>\n",
       "      <td>0</td>\n",
       "      <td>0</td>\n",
       "      <td>1</td>\n",
       "      <td>3</td>\n",
       "    </tr>\n",
       "    <tr>\n",
       "      <th>4</th>\n",
       "      <td>1</td>\n",
       "      <td>0</td>\n",
       "      <td>0</td>\n",
       "      <td>0</td>\n",
       "      <td>0</td>\n",
       "      <td>0</td>\n",
       "      <td>0</td>\n",
       "      <td>0</td>\n",
       "      <td>0</td>\n",
       "      <td>0</td>\n",
       "      <td>0</td>\n",
       "      <td>0</td>\n",
       "      <td>4</td>\n",
       "    </tr>\n",
       "    <tr>\n",
       "      <th>...</th>\n",
       "      <td>...</td>\n",
       "      <td>...</td>\n",
       "      <td>...</td>\n",
       "      <td>...</td>\n",
       "      <td>...</td>\n",
       "      <td>...</td>\n",
       "      <td>...</td>\n",
       "      <td>...</td>\n",
       "      <td>...</td>\n",
       "      <td>...</td>\n",
       "      <td>...</td>\n",
       "      <td>...</td>\n",
       "      <td>...</td>\n",
       "    </tr>\n",
       "    <tr>\n",
       "      <th>99</th>\n",
       "      <td>0</td>\n",
       "      <td>0</td>\n",
       "      <td>0</td>\n",
       "      <td>0</td>\n",
       "      <td>0</td>\n",
       "      <td>0</td>\n",
       "      <td>0</td>\n",
       "      <td>0</td>\n",
       "      <td>0</td>\n",
       "      <td>0</td>\n",
       "      <td>1</td>\n",
       "      <td>0</td>\n",
       "      <td>99</td>\n",
       "    </tr>\n",
       "    <tr>\n",
       "      <th>100</th>\n",
       "      <td>0</td>\n",
       "      <td>0</td>\n",
       "      <td>0</td>\n",
       "      <td>0</td>\n",
       "      <td>0</td>\n",
       "      <td>0</td>\n",
       "      <td>0</td>\n",
       "      <td>0</td>\n",
       "      <td>0</td>\n",
       "      <td>0</td>\n",
       "      <td>1</td>\n",
       "      <td>0</td>\n",
       "      <td>100</td>\n",
       "    </tr>\n",
       "    <tr>\n",
       "      <th>101</th>\n",
       "      <td>0</td>\n",
       "      <td>0</td>\n",
       "      <td>0</td>\n",
       "      <td>0</td>\n",
       "      <td>0</td>\n",
       "      <td>0</td>\n",
       "      <td>0</td>\n",
       "      <td>0</td>\n",
       "      <td>0</td>\n",
       "      <td>0</td>\n",
       "      <td>1</td>\n",
       "      <td>0</td>\n",
       "      <td>101</td>\n",
       "    </tr>\n",
       "    <tr>\n",
       "      <th>102</th>\n",
       "      <td>0</td>\n",
       "      <td>0</td>\n",
       "      <td>0</td>\n",
       "      <td>0</td>\n",
       "      <td>0</td>\n",
       "      <td>0</td>\n",
       "      <td>0</td>\n",
       "      <td>0</td>\n",
       "      <td>0</td>\n",
       "      <td>0</td>\n",
       "      <td>1</td>\n",
       "      <td>0</td>\n",
       "      <td>102</td>\n",
       "    </tr>\n",
       "    <tr>\n",
       "      <th>103</th>\n",
       "      <td>0</td>\n",
       "      <td>0</td>\n",
       "      <td>0</td>\n",
       "      <td>0</td>\n",
       "      <td>0</td>\n",
       "      <td>0</td>\n",
       "      <td>0</td>\n",
       "      <td>0</td>\n",
       "      <td>0</td>\n",
       "      <td>0</td>\n",
       "      <td>0</td>\n",
       "      <td>1</td>\n",
       "      <td>103</td>\n",
       "    </tr>\n",
       "  </tbody>\n",
       "</table>\n",
       "<p>104 rows × 13 columns</p>\n",
       "</div>"
      ],
      "text/plain": [
       "     month_1  month_2  month_3  month_4  month_5  month_6  month_7  month_8  \\\n",
       "0          0        0        0        0        0        0        0        0   \n",
       "1          0        0        0        0        0        0        0        0   \n",
       "2          0        0        0        0        0        0        0        0   \n",
       "3          0        0        0        0        0        0        0        0   \n",
       "4          1        0        0        0        0        0        0        0   \n",
       "..       ...      ...      ...      ...      ...      ...      ...      ...   \n",
       "99         0        0        0        0        0        0        0        0   \n",
       "100        0        0        0        0        0        0        0        0   \n",
       "101        0        0        0        0        0        0        0        0   \n",
       "102        0        0        0        0        0        0        0        0   \n",
       "103        0        0        0        0        0        0        0        0   \n",
       "\n",
       "     month_9  month_10  month_11  month_12  trend  \n",
       "0          0         0         0         1      0  \n",
       "1          0         0         0         1      1  \n",
       "2          0         0         0         1      2  \n",
       "3          0         0         0         1      3  \n",
       "4          0         0         0         0      4  \n",
       "..       ...       ...       ...       ...    ...  \n",
       "99         0         0         1         0     99  \n",
       "100        0         0         1         0    100  \n",
       "101        0         0         1         0    101  \n",
       "102        0         0         1         0    102  \n",
       "103        0         0         0         1    103  \n",
       "\n",
       "[104 rows x 13 columns]"
      ]
     },
     "execution_count": 37,
     "metadata": {},
     "output_type": "execute_result"
    }
   ],
   "source": [
    "X"
   ]
  },
  {
   "cell_type": "code",
   "execution_count": 38,
   "id": "5f2cd073-638c-4c9f-9772-9af54cba5f9b",
   "metadata": {},
   "outputs": [],
   "source": [
    "y=rev.iloc[:,0]"
   ]
  },
  {
   "cell_type": "code",
   "execution_count": 39,
   "id": "7e3f0f89-03d4-4121-9c8b-003c2a86ff7a",
   "metadata": {},
   "outputs": [
    {
     "data": {
      "text/plain": [
       "0      232177.51\n",
       "1      207908.73\n",
       "2      207685.87\n",
       "3       35731.90\n",
       "4      167636.95\n",
       "         ...    \n",
       "99     263717.33\n",
       "100    276216.98\n",
       "101    248234.58\n",
       "102    250833.04\n",
       "103    408044.97\n",
       "Name: total_revenue, Length: 104, dtype: float64"
      ]
     },
     "execution_count": 39,
     "metadata": {},
     "output_type": "execute_result"
    }
   ],
   "source": [
    "y"
   ]
  },
  {
   "cell_type": "code",
   "execution_count": 40,
   "id": "41e597a8-1049-4cf9-a70d-dc3b5bf68033",
   "metadata": {},
   "outputs": [
    {
     "data": {
      "text/plain": [
       "LinearRegression()"
      ]
     },
     "execution_count": 40,
     "metadata": {},
     "output_type": "execute_result"
    }
   ],
   "source": [
    "lr.fit(X,y)"
   ]
  },
  {
   "cell_type": "code",
   "execution_count": 41,
   "id": "f92f45c8-0b91-45ca-acf9-e2f51348b776",
   "metadata": {},
   "outputs": [
    {
     "data": {
      "text/plain": [
       "0.5526519218795967"
      ]
     },
     "execution_count": 41,
     "metadata": {},
     "output_type": "execute_result"
    }
   ],
   "source": [
    "lr.score(X,y)"
   ]
  },
  {
   "cell_type": "code",
   "execution_count": 42,
   "id": "07462e40-b939-4688-bacd-cb82d6f99c53",
   "metadata": {},
   "outputs": [],
   "source": [
    "ypred=lr.predict(X)"
   ]
  },
  {
   "cell_type": "code",
   "execution_count": 43,
   "id": "a47a9a9b-40f1-4b38-b705-78b77af188ad",
   "metadata": {},
   "outputs": [
    {
     "data": {
      "text/plain": [
       "array([182965.71300573, 183150.85493093, 183335.99685613, 183521.13878133,\n",
       "       128986.65558558, 129171.79751078, 129356.93943598, 129542.08136118,\n",
       "       115640.42655694, 115825.56848214, 116010.71040734, 116195.85233254,\n",
       "       134137.2655283 , 134322.4074535 , 134507.5493787 , 134692.69130391,\n",
       "       134877.83322911, 122457.35839454, 122642.50031974, 122827.64224494,\n",
       "       123012.78417015, 143291.32869669, 143476.47062189, 143661.61254709,\n",
       "       143846.75447229, 138343.31430608, 138528.45623128, 138713.59815648,\n",
       "       138898.74008168, 139083.88200689, 138161.84439454, 138346.98631974,\n",
       "       138532.12824494, 138717.27017014, 135002.43705694, 135187.57898214,\n",
       "       135372.72090734, 135557.86283254, 135743.00475775, 204847.39714454,\n",
       "       205032.53906974, 205217.68099494, 205402.82292015, 240064.6398078 ,\n",
       "       240249.781733  , 240434.92365821, 240620.06558341, 256957.57008386,\n",
       "       257142.71200906, 257327.85393426, 257512.99585947, 257698.13778467,\n",
       "       192593.09311624, 192778.23504145, 192963.37696665, 138428.89377089,\n",
       "       138614.03569609, 138799.1776213 , 138984.3195465 , 139169.4614717 ,\n",
       "       125267.80666745, 125452.94859266, 125638.09051786, 125823.23244306,\n",
       "       143764.64563882, 143949.78756402, 144134.92948922, 144320.07141442,\n",
       "       131899.59657985, 132084.73850506, 132269.88043026, 132455.02235546,\n",
       "       152733.566882  , 152918.7088072 , 153103.85073241, 153288.99265761,\n",
       "       153474.13458281, 147970.69441659, 148155.8363418 , 148340.978267  ,\n",
       "       148526.1201922 , 147604.08257985, 147789.22450506, 147974.36643026,\n",
       "       148159.50835546, 144444.67524225, 144629.81716745, 144814.95909266,\n",
       "       145000.10101786, 145185.24294306, 214289.63532986, 214474.77725506,\n",
       "       214659.91918026, 214845.06110546, 249506.87799312, 249692.01991832,\n",
       "       249877.16184352, 250062.30376872, 250247.44569393, 266584.95019438,\n",
       "       266770.09211958, 266955.23404478, 267140.37596998, 202035.33130156])"
      ]
     },
     "execution_count": 43,
     "metadata": {},
     "output_type": "execute_result"
    }
   ],
   "source": [
    "ypred"
   ]
  },
  {
   "cell_type": "code",
   "execution_count": 44,
   "id": "db1127e6-3c12-4626-bd9d-c6ee92c958c6",
   "metadata": {},
   "outputs": [
    {
     "data": {
      "text/plain": [
       "0      0.788042\n",
       "1      0.880920\n",
       "2      0.882756\n",
       "3      5.136059\n",
       "4      0.769440\n",
       "         ...   \n",
       "99     1.010874\n",
       "100    0.965799\n",
       "101    1.075415\n",
       "102    1.065013\n",
       "103    0.495130\n",
       "Name: total_revenue, Length: 104, dtype: float64"
      ]
     },
     "execution_count": 44,
     "metadata": {},
     "output_type": "execute_result"
    }
   ],
   "source": [
    "ypred/y"
   ]
  },
  {
   "cell_type": "code",
   "execution_count": 45,
   "id": "365cfc7f-90dc-4f9c-b31f-920f99fdf26c",
   "metadata": {},
   "outputs": [
    {
     "data": {
      "text/plain": [
       "0.49513006201634685"
      ]
     },
     "execution_count": 45,
     "metadata": {},
     "output_type": "execute_result"
    }
   ],
   "source": [
    "(ypred/y).min()"
   ]
  },
  {
   "cell_type": "code",
   "execution_count": 46,
   "id": "ea512b9e-ff57-48bd-9fcf-f8e792524ea8",
   "metadata": {},
   "outputs": [
    {
     "data": {
      "text/plain": [
       "5.136058781686177"
      ]
     },
     "execution_count": 46,
     "metadata": {},
     "output_type": "execute_result"
    }
   ],
   "source": [
    "(ypred/y).max()"
   ]
  },
  {
   "cell_type": "code",
   "execution_count": 47,
   "id": "68acff29-11f3-4351-86e6-8ed03c52cb42",
   "metadata": {},
   "outputs": [],
   "source": [
    "revv= rev.copy()"
   ]
  },
  {
   "cell_type": "code",
   "execution_count": 48,
   "id": "90544e2d-b657-4da7-a4e8-74bec53917c8",
   "metadata": {},
   "outputs": [],
   "source": [
    "import matplotlib.pyplot as plt"
   ]
  },
  {
   "cell_type": "code",
   "execution_count": 49,
   "id": "a31b9ac7-1e0c-4a07-9bb6-9020a9976a2c",
   "metadata": {},
   "outputs": [
    {
     "data": {
      "text/plain": [
       "<matplotlib.collections.PathCollection at 0x239166c1e50>"
      ]
     },
     "execution_count": 49,
     "metadata": {},
     "output_type": "execute_result"
    },
    {
     "data": {
      "image/png": "[encoded data removed]",
      "text/plain": [
       "<Figure size 432x288 with 1 Axes>"
      ]
     },
     "metadata": {
      "needs_background": "light"
     },
     "output_type": "display_data"
    }
   ],
   "source": [
    "plt.scatter(y,ypred)"
   ]
  },
  {
   "cell_type": "code",
   "execution_count": 50,
   "id": "9bec812e-c6c2-4d92-a28e-dbdfb8ec6ee6",
   "metadata": {},
   "outputs": [],
   "source": [
    "import seaborn as sns"
   ]
  },
  {
   "cell_type": "code",
   "execution_count": 51,
   "id": "3bd09037-d386-47fc-b5a2-cb12d8fafdcd",
   "metadata": {},
   "outputs": [
    {
     "name": "stderr",
     "output_type": "stream",
     "text": [
      "C:\\Users\\Asus\\anaconda31\\lib\\site-packages\\seaborn\\_decorators.py:36: FutureWarning: Pass the following variable as a keyword arg: x. From version 0.12, the only valid positional argument will be `data`, and passing other arguments without an explicit keyword will result in an error or misinterpretation.\n",
      "  warnings.warn(\n"
     ]
    },
    {
     "data": {
      "text/plain": [
       "<AxesSubplot:xlabel='month_2', ylabel='count'>"
      ]
     },
     "execution_count": 51,
     "metadata": {},
     "output_type": "execute_result"
    },
    {
     "data": {
      "image/png": "[encoded data removed]",
      "text/plain": [
       "<Figure size 432x288 with 1 Axes>"
      ]
     },
     "metadata": {
      "needs_background": "light"
     },
     "output_type": "display_data"
    }
   ],
   "source": [
    "sns.countplot(revv['month_2'])"
   ]
  },
  {
   "cell_type": "code",
   "execution_count": 52,
   "id": "b1301067-5b60-4bba-9447-3b124e04abc0",
   "metadata": {},
   "outputs": [
    {
     "name": "stderr",
     "output_type": "stream",
     "text": [
      "C:\\Users\\Asus\\anaconda31\\lib\\site-packages\\seaborn\\_decorators.py:36: FutureWarning: Pass the following variable as a keyword arg: x. From version 0.12, the only valid positional argument will be `data`, and passing other arguments without an explicit keyword will result in an error or misinterpretation.\n",
      "  warnings.warn(\n"
     ]
    },
    {
     "data": {
      "text/plain": [
       "<AxesSubplot:xlabel='month_12', ylabel='count'>"
      ]
     },
     "execution_count": 52,
     "metadata": {},
     "output_type": "execute_result"
    },
    {
     "data": {
      "image/png": "[encoded data removed]",
      "text/plain": [
       "<Figure size 432x288 with 1 Axes>"
      ]
     },
     "metadata": {
      "needs_background": "light"
     },
     "output_type": "display_data"
    }
   ],
   "source": [
    "sns.countplot(revv['month_12'])"
   ]
  },
  {
   "cell_type": "code",
   "execution_count": 53,
   "id": "15e6b983-766c-4a41-bdc9-0f3d3d103b85",
   "metadata": {},
   "outputs": [
    {
     "name": "stderr",
     "output_type": "stream",
     "text": [
      "C:\\Users\\Asus\\anaconda31\\lib\\site-packages\\seaborn\\_decorators.py:36: FutureWarning: Pass the following variable as a keyword arg: x. From version 0.12, the only valid positional argument will be `data`, and passing other arguments without an explicit keyword will result in an error or misinterpretation.\n",
      "  warnings.warn(\n"
     ]
    },
    {
     "data": {
      "text/plain": [
       "<AxesSubplot:xlabel='month_8', ylabel='count'>"
      ]
     },
     "execution_count": 53,
     "metadata": {},
     "output_type": "execute_result"
    },
    {
     "data": {
      "image/png": "[encoded data removed]",
      "text/plain": [
       "<Figure size 432x288 with 1 Axes>"
      ]
     },
     "metadata": {
      "needs_background": "light"
     },
     "output_type": "display_data"
    }
   ],
   "source": [
    "sns.countplot(revv['month_8'])"
   ]
  },
  {
   "cell_type": "code",
   "execution_count": 54,
   "id": "003f224e-f10e-4569-9cab-8936b388a2c2",
   "metadata": {},
   "outputs": [],
   "source": [
    "sam_df= pd.DataFrame()"
   ]
  },
  {
   "cell_type": "code",
   "execution_count": 55,
   "id": "5f797ac2-311f-4ce7-93b0-f4d79c42cc8d",
   "metadata": {},
   "outputs": [],
   "source": [
    "sam_df['y']=y\n",
    "sam_df['ypred']=ypred"
   ]
  },
  {
   "cell_type": "code",
   "execution_count": 56,
   "id": "0a01b99a-75b1-4b28-911e-845b2d12b050",
   "metadata": {},
   "outputs": [
    {
     "name": "stderr",
     "output_type": "stream",
     "text": [
      "C:\\Users\\Asus\\anaconda31\\lib\\site-packages\\seaborn\\_decorators.py:36: FutureWarning: Pass the following variables as keyword args: x, y. From version 0.12, the only valid positional argument will be `data`, and passing other arguments without an explicit keyword will result in an error or misinterpretation.\n",
      "  warnings.warn(\n"
     ]
    },
    {
     "data": {
      "text/plain": [
       "<seaborn.axisgrid.FacetGrid at 0x23918b192b0>"
      ]
     },
     "execution_count": 56,
     "metadata": {},
     "output_type": "execute_result"
    },
    {
     "data": {
      "image/png": "[encoded data removed]",
      "text/plain": [
       "<Figure size 360x360 with 1 Axes>"
      ]
     },
     "metadata": {
      "needs_background": "light"
     },
     "output_type": "display_data"
    }
   ],
   "source": [
    "sns.lmplot('ypred','y',data=sam_df)"
   ]
  },
  {
   "cell_type": "code",
   "execution_count": 57,
   "id": "126bd9a6-9f5a-42ce-bb8b-5fa5da71afa8",
   "metadata": {},
   "outputs": [
    {
     "name": "stderr",
     "output_type": "stream",
     "text": [
      "C:\\Users\\Asus\\anaconda31\\lib\\site-packages\\seaborn\\distributions.py:2557: FutureWarning: `distplot` is a deprecated function and will be removed in a future version. Please adapt your code to use either `displot` (a figure-level function with similar flexibility) or `histplot` (an axes-level function for histograms).\n",
      "  warnings.warn(msg, FutureWarning)\n",
      "C:\\Users\\Asus\\anaconda31\\lib\\site-packages\\seaborn\\distributions.py:2557: FutureWarning: `distplot` is a deprecated function and will be removed in a future version. Please adapt your code to use either `displot` (a figure-level function with similar flexibility) or `histplot` (an axes-level function for histograms).\n",
      "  warnings.warn(msg, FutureWarning)\n"
     ]
    },
    {
     "data": {
      "text/plain": [
       "<AxesSubplot:xlabel='total_revenue', ylabel='Density'>"
      ]
     },
     "execution_count": 57,
     "metadata": {},
     "output_type": "execute_result"
    },
    {
     "data": {
      "image/png": "[encoded data removed]",
      "text/plain": [
       "<Figure size 432x288 with 1 Axes>"
      ]
     },
     "metadata": {
      "needs_background": "light"
     },
     "output_type": "display_data"
    }
   ],
   "source": [
    "sns.distplot(ypred,)\n",
    "sns.distplot(y)\n",
    "\n"
   ]
  },
  {
   "cell_type": "code",
   "execution_count": 58,
   "id": "46181827-5dea-4ceb-8690-f2a6ee98e21c",
   "metadata": {},
   "outputs": [
    {
     "name": "stderr",
     "output_type": "stream",
     "text": [
      "C:\\Users\\Asus\\anaconda31\\lib\\site-packages\\seaborn\\distributions.py:2557: FutureWarning: `distplot` is a deprecated function and will be removed in a future version. Please adapt your code to use either `displot` (a figure-level function with similar flexibility) or `histplot` (an axes-level function for histograms).\n",
      "  warnings.warn(msg, FutureWarning)\n",
      "C:\\Users\\Asus\\anaconda31\\lib\\site-packages\\seaborn\\distributions.py:2557: FutureWarning: `distplot` is a deprecated function and will be removed in a future version. Please adapt your code to use either `displot` (a figure-level function with similar flexibility) or `histplot` (an axes-level function for histograms).\n",
      "  warnings.warn(msg, FutureWarning)\n",
      "C:\\Users\\Asus\\anaconda31\\lib\\site-packages\\seaborn\\distributions.py:2557: FutureWarning: `distplot` is a deprecated function and will be removed in a future version. Please adapt your code to use either `displot` (a figure-level function with similar flexibility) or `histplot` (an axes-level function for histograms).\n",
      "  warnings.warn(msg, FutureWarning)\n"
     ]
    },
    {
     "data": {
      "text/plain": [
       "<AxesSubplot:xlabel='total_revenue', ylabel='Density'>"
      ]
     },
     "execution_count": 58,
     "metadata": {},
     "output_type": "execute_result"
    },
    {
     "data": {
      "image/png": "[encoded data removed]",
      "text/plain": [
       "<Figure size 432x288 with 1 Axes>"
      ]
     },
     "metadata": {
      "needs_background": "light"
     },
     "output_type": "display_data"
    }
   ],
   "source": [
    "sns.distplot(ypred,)\n",
    "sns.distplot(y)\n",
    "sns.distplot(y-ypred)"
   ]
  },
  {
   "cell_type": "code",
   "execution_count": 59,
   "id": "14e0a1dc-58ea-49e8-ba62-cdb67a726247",
   "metadata": {},
   "outputs": [
    {
     "data": {
      "text/plain": [
       "41910.49479596139"
      ]
     },
     "execution_count": 59,
     "metadata": {},
     "output_type": "execute_result"
    }
   ],
   "source": [
    "(y-ypred).std()"
   ]
  },
  {
   "cell_type": "code",
   "execution_count": 60,
   "id": "64309f67-c13a-4b06-9c14-2e5d60a11018",
   "metadata": {},
   "outputs": [],
   "source": [
    "from statsmodels.tsa.stattools import adfuller"
   ]
  },
  {
   "cell_type": "code",
   "execution_count": 61,
   "id": "21e4db32-9d4a-4850-bc6e-4585aade83ca",
   "metadata": {},
   "outputs": [
    {
     "data": {
      "text/plain": [
       "(-7.0150582783776905,\n",
       " 6.76622204971066e-10,\n",
       " 2,\n",
       " 101,\n",
       " {'1%': -3.4968181663902103,\n",
       "  '5%': -2.8906107514600103,\n",
       "  '10%': -2.5822770483285953},\n",
       " 2168.369010159322)"
      ]
     },
     "execution_count": 61,
     "metadata": {},
     "output_type": "execute_result"
    }
   ],
   "source": [
    "adfuller(y-ypred)"
   ]
  },
  {
   "cell_type": "markdown",
   "id": "21348535-0d3e-4692-870f-1d950d260359",
   "metadata": {},
   "source": [
    "#### Whitenoise indeed"
   ]
  },
  {
   "cell_type": "code",
   "execution_count": 62,
   "id": "769a92c3-b8a2-475a-b854-78596d761f57",
   "metadata": {},
   "outputs": [
    {
     "data": {
      "text/plain": [
       "[<matplotlib.lines.Line2D at 0x23919078970>]"
      ]
     },
     "execution_count": 62,
     "metadata": {},
     "output_type": "execute_result"
    },
    {
     "data": {
      "image/png": "[encoded data removed]",
      "text/plain": [
       "<Figure size 432x288 with 1 Axes>"
      ]
     },
     "metadata": {
      "needs_background": "light"
     },
     "output_type": "display_data"
    }
   ],
   "source": [
    "plt.plot(y-ypred)"
   ]
  },
  {
   "cell_type": "code",
   "execution_count": 63,
   "id": "d8c69da8-609c-40c3-b828-56ddc2925d59",
   "metadata": {},
   "outputs": [
    {
     "data": {
      "text/plain": [
       "<matplotlib.collections.PathCollection at 0x239190e2fd0>"
      ]
     },
     "execution_count": 63,
     "metadata": {},
     "output_type": "execute_result"
    },
    {
     "data": {
      "image/png": "[encoded data removed]",
      "text/plain": [
       "<Figure size 720x720 with 1 Axes>"
      ]
     },
     "metadata": {
      "needs_background": "light"
     },
     "output_type": "display_data"
    }
   ],
   "source": [
    "plt.figure(figsize=[10,10])\n",
    "plt.scatter(range(0,revv.shape[0]),y-ypred)"
   ]
  },
  {
   "cell_type": "code",
   "execution_count": 64,
   "id": "ef8279cf-b277-4e8a-aa40-65743ee22050",
   "metadata": {},
   "outputs": [],
   "source": [
    "import itertools"
   ]
  },
  {
   "cell_type": "code",
   "execution_count": 65,
   "id": "defb5ce6-b738-44fa-aff7-5c47454c7148",
   "metadata": {},
   "outputs": [],
   "source": [
    "p=q=d=P=Q=D= range(0,3)\n",
    "combi= list(itertools.product(p,q,d,P,Q,D))\n",
    "S=12"
   ]
  },
  {
   "cell_type": "code",
   "execution_count": 66,
   "id": "6ed8e768-4f00-439f-b8f7-ef949e4f6c56",
   "metadata": {},
   "outputs": [
    {
     "data": {
      "text/plain": [
       "729"
      ]
     },
     "execution_count": 66,
     "metadata": {},
     "output_type": "execute_result"
    }
   ],
   "source": [
    "len(combi)"
   ]
  },
  {
   "cell_type": "code",
   "execution_count": 67,
   "id": "bb06fd83-2ff5-40cb-8e83-794ecfd01074",
   "metadata": {
    "scrolled": true,
    "tags": []
   },
   "outputs": [
    {
     "data": {
      "text/plain": [
       "[(0, 0, 0, 0, 0, 0),\n",
       " (0, 0, 0, 0, 0, 1),\n",
       " (0, 0, 0, 0, 0, 2),\n",
       " (0, 0, 0, 0, 1, 0),\n",
       " (0, 0, 0, 0, 1, 1),\n",
       " (0, 0, 0, 0, 1, 2),\n",
       " (0, 0, 0, 0, 2, 0),\n",
       " (0, 0, 0, 0, 2, 1),\n",
       " (0, 0, 0, 0, 2, 2),\n",
       " (0, 0, 0, 1, 0, 0),\n",
       " (0, 0, 0, 1, 0, 1),\n",
       " (0, 0, 0, 1, 0, 2),\n",
       " (0, 0, 0, 1, 1, 0),\n",
       " (0, 0, 0, 1, 1, 1),\n",
       " (0, 0, 0, 1, 1, 2),\n",
       " (0, 0, 0, 1, 2, 0),\n",
       " (0, 0, 0, 1, 2, 1),\n",
       " (0, 0, 0, 1, 2, 2),\n",
       " (0, 0, 0, 2, 0, 0),\n",
       " (0, 0, 0, 2, 0, 1),\n",
       " (0, 0, 0, 2, 0, 2),\n",
       " (0, 0, 0, 2, 1, 0),\n",
       " (0, 0, 0, 2, 1, 1),\n",
       " (0, 0, 0, 2, 1, 2),\n",
       " (0, 0, 0, 2, 2, 0),\n",
       " (0, 0, 0, 2, 2, 1),\n",
       " (0, 0, 0, 2, 2, 2),\n",
       " (0, 0, 1, 0, 0, 0),\n",
       " (0, 0, 1, 0, 0, 1),\n",
       " (0, 0, 1, 0, 0, 2),\n",
       " (0, 0, 1, 0, 1, 0),\n",
       " (0, 0, 1, 0, 1, 1),\n",
       " (0, 0, 1, 0, 1, 2),\n",
       " (0, 0, 1, 0, 2, 0),\n",
       " (0, 0, 1, 0, 2, 1),\n",
       " (0, 0, 1, 0, 2, 2),\n",
       " (0, 0, 1, 1, 0, 0),\n",
       " (0, 0, 1, 1, 0, 1),\n",
       " (0, 0, 1, 1, 0, 2),\n",
       " (0, 0, 1, 1, 1, 0),\n",
       " (0, 0, 1, 1, 1, 1),\n",
       " (0, 0, 1, 1, 1, 2),\n",
       " (0, 0, 1, 1, 2, 0),\n",
       " (0, 0, 1, 1, 2, 1),\n",
       " (0, 0, 1, 1, 2, 2),\n",
       " (0, 0, 1, 2, 0, 0),\n",
       " (0, 0, 1, 2, 0, 1),\n",
       " (0, 0, 1, 2, 0, 2),\n",
       " (0, 0, 1, 2, 1, 0),\n",
       " (0, 0, 1, 2, 1, 1),\n",
       " (0, 0, 1, 2, 1, 2),\n",
       " (0, 0, 1, 2, 2, 0),\n",
       " (0, 0, 1, 2, 2, 1),\n",
       " (0, 0, 1, 2, 2, 2),\n",
       " (0, 0, 2, 0, 0, 0),\n",
       " (0, 0, 2, 0, 0, 1),\n",
       " (0, 0, 2, 0, 0, 2),\n",
       " (0, 0, 2, 0, 1, 0),\n",
       " (0, 0, 2, 0, 1, 1),\n",
       " (0, 0, 2, 0, 1, 2),\n",
       " (0, 0, 2, 0, 2, 0),\n",
       " (0, 0, 2, 0, 2, 1),\n",
       " (0, 0, 2, 0, 2, 2),\n",
       " (0, 0, 2, 1, 0, 0),\n",
       " (0, 0, 2, 1, 0, 1),\n",
       " (0, 0, 2, 1, 0, 2),\n",
       " (0, 0, 2, 1, 1, 0),\n",
       " (0, 0, 2, 1, 1, 1),\n",
       " (0, 0, 2, 1, 1, 2),\n",
       " (0, 0, 2, 1, 2, 0),\n",
       " (0, 0, 2, 1, 2, 1),\n",
       " (0, 0, 2, 1, 2, 2),\n",
       " (0, 0, 2, 2, 0, 0),\n",
       " (0, 0, 2, 2, 0, 1),\n",
       " (0, 0, 2, 2, 0, 2),\n",
       " (0, 0, 2, 2, 1, 0),\n",
       " (0, 0, 2, 2, 1, 1),\n",
       " (0, 0, 2, 2, 1, 2),\n",
       " (0, 0, 2, 2, 2, 0),\n",
       " (0, 0, 2, 2, 2, 1),\n",
       " (0, 0, 2, 2, 2, 2),\n",
       " (0, 1, 0, 0, 0, 0),\n",
       " (0, 1, 0, 0, 0, 1),\n",
       " (0, 1, 0, 0, 0, 2),\n",
       " (0, 1, 0, 0, 1, 0),\n",
       " (0, 1, 0, 0, 1, 1),\n",
       " (0, 1, 0, 0, 1, 2),\n",
       " (0, 1, 0, 0, 2, 0),\n",
       " (0, 1, 0, 0, 2, 1),\n",
       " (0, 1, 0, 0, 2, 2),\n",
       " (0, 1, 0, 1, 0, 0),\n",
       " (0, 1, 0, 1, 0, 1),\n",
       " (0, 1, 0, 1, 0, 2),\n",
       " (0, 1, 0, 1, 1, 0),\n",
       " (0, 1, 0, 1, 1, 1),\n",
       " (0, 1, 0, 1, 1, 2),\n",
       " (0, 1, 0, 1, 2, 0),\n",
       " (0, 1, 0, 1, 2, 1),\n",
       " (0, 1, 0, 1, 2, 2),\n",
       " (0, 1, 0, 2, 0, 0),\n",
       " (0, 1, 0, 2, 0, 1),\n",
       " (0, 1, 0, 2, 0, 2),\n",
       " (0, 1, 0, 2, 1, 0),\n",
       " (0, 1, 0, 2, 1, 1),\n",
       " (0, 1, 0, 2, 1, 2),\n",
       " (0, 1, 0, 2, 2, 0),\n",
       " (0, 1, 0, 2, 2, 1),\n",
       " (0, 1, 0, 2, 2, 2),\n",
       " (0, 1, 1, 0, 0, 0),\n",
       " (0, 1, 1, 0, 0, 1),\n",
       " (0, 1, 1, 0, 0, 2),\n",
       " (0, 1, 1, 0, 1, 0),\n",
       " (0, 1, 1, 0, 1, 1),\n",
       " (0, 1, 1, 0, 1, 2),\n",
       " (0, 1, 1, 0, 2, 0),\n",
       " (0, 1, 1, 0, 2, 1),\n",
       " (0, 1, 1, 0, 2, 2),\n",
       " (0, 1, 1, 1, 0, 0),\n",
       " (0, 1, 1, 1, 0, 1),\n",
       " (0, 1, 1, 1, 0, 2),\n",
       " (0, 1, 1, 1, 1, 0),\n",
       " (0, 1, 1, 1, 1, 1),\n",
       " (0, 1, 1, 1, 1, 2),\n",
       " (0, 1, 1, 1, 2, 0),\n",
       " (0, 1, 1, 1, 2, 1),\n",
       " (0, 1, 1, 1, 2, 2),\n",
       " (0, 1, 1, 2, 0, 0),\n",
       " (0, 1, 1, 2, 0, 1),\n",
       " (0, 1, 1, 2, 0, 2),\n",
       " (0, 1, 1, 2, 1, 0),\n",
       " (0, 1, 1, 2, 1, 1),\n",
       " (0, 1, 1, 2, 1, 2),\n",
       " (0, 1, 1, 2, 2, 0),\n",
       " (0, 1, 1, 2, 2, 1),\n",
       " (0, 1, 1, 2, 2, 2),\n",
       " (0, 1, 2, 0, 0, 0),\n",
       " (0, 1, 2, 0, 0, 1),\n",
       " (0, 1, 2, 0, 0, 2),\n",
       " (0, 1, 2, 0, 1, 0),\n",
       " (0, 1, 2, 0, 1, 1),\n",
       " (0, 1, 2, 0, 1, 2),\n",
       " (0, 1, 2, 0, 2, 0),\n",
       " (0, 1, 2, 0, 2, 1),\n",
       " (0, 1, 2, 0, 2, 2),\n",
       " (0, 1, 2, 1, 0, 0),\n",
       " (0, 1, 2, 1, 0, 1),\n",
       " (0, 1, 2, 1, 0, 2),\n",
       " (0, 1, 2, 1, 1, 0),\n",
       " (0, 1, 2, 1, 1, 1),\n",
       " (0, 1, 2, 1, 1, 2),\n",
       " (0, 1, 2, 1, 2, 0),\n",
       " (0, 1, 2, 1, 2, 1),\n",
       " (0, 1, 2, 1, 2, 2),\n",
       " (0, 1, 2, 2, 0, 0),\n",
       " (0, 1, 2, 2, 0, 1),\n",
       " (0, 1, 2, 2, 0, 2),\n",
       " (0, 1, 2, 2, 1, 0),\n",
       " (0, 1, 2, 2, 1, 1),\n",
       " (0, 1, 2, 2, 1, 2),\n",
       " (0, 1, 2, 2, 2, 0),\n",
       " (0, 1, 2, 2, 2, 1),\n",
       " (0, 1, 2, 2, 2, 2),\n",
       " (0, 2, 0, 0, 0, 0),\n",
       " (0, 2, 0, 0, 0, 1),\n",
       " (0, 2, 0, 0, 0, 2),\n",
       " (0, 2, 0, 0, 1, 0),\n",
       " (0, 2, 0, 0, 1, 1),\n",
       " (0, 2, 0, 0, 1, 2),\n",
       " (0, 2, 0, 0, 2, 0),\n",
       " (0, 2, 0, 0, 2, 1),\n",
       " (0, 2, 0, 0, 2, 2),\n",
       " (0, 2, 0, 1, 0, 0),\n",
       " (0, 2, 0, 1, 0, 1),\n",
       " (0, 2, 0, 1, 0, 2),\n",
       " (0, 2, 0, 1, 1, 0),\n",
       " (0, 2, 0, 1, 1, 1),\n",
       " (0, 2, 0, 1, 1, 2),\n",
       " (0, 2, 0, 1, 2, 0),\n",
       " (0, 2, 0, 1, 2, 1),\n",
       " (0, 2, 0, 1, 2, 2),\n",
       " (0, 2, 0, 2, 0, 0),\n",
       " (0, 2, 0, 2, 0, 1),\n",
       " (0, 2, 0, 2, 0, 2),\n",
       " (0, 2, 0, 2, 1, 0),\n",
       " (0, 2, 0, 2, 1, 1),\n",
       " (0, 2, 0, 2, 1, 2),\n",
       " (0, 2, 0, 2, 2, 0),\n",
       " (0, 2, 0, 2, 2, 1),\n",
       " (0, 2, 0, 2, 2, 2),\n",
       " (0, 2, 1, 0, 0, 0),\n",
       " (0, 2, 1, 0, 0, 1),\n",
       " (0, 2, 1, 0, 0, 2),\n",
       " (0, 2, 1, 0, 1, 0),\n",
       " (0, 2, 1, 0, 1, 1),\n",
       " (0, 2, 1, 0, 1, 2),\n",
       " (0, 2, 1, 0, 2, 0),\n",
       " (0, 2, 1, 0, 2, 1),\n",
       " (0, 2, 1, 0, 2, 2),\n",
       " (0, 2, 1, 1, 0, 0),\n",
       " (0, 2, 1, 1, 0, 1),\n",
       " (0, 2, 1, 1, 0, 2),\n",
       " (0, 2, 1, 1, 1, 0),\n",
       " (0, 2, 1, 1, 1, 1),\n",
       " (0, 2, 1, 1, 1, 2),\n",
       " (0, 2, 1, 1, 2, 0),\n",
       " (0, 2, 1, 1, 2, 1),\n",
       " (0, 2, 1, 1, 2, 2),\n",
       " (0, 2, 1, 2, 0, 0),\n",
       " (0, 2, 1, 2, 0, 1),\n",
       " (0, 2, 1, 2, 0, 2),\n",
       " (0, 2, 1, 2, 1, 0),\n",
       " (0, 2, 1, 2, 1, 1),\n",
       " (0, 2, 1, 2, 1, 2),\n",
       " (0, 2, 1, 2, 2, 0),\n",
       " (0, 2, 1, 2, 2, 1),\n",
       " (0, 2, 1, 2, 2, 2),\n",
       " (0, 2, 2, 0, 0, 0),\n",
       " (0, 2, 2, 0, 0, 1),\n",
       " (0, 2, 2, 0, 0, 2),\n",
       " (0, 2, 2, 0, 1, 0),\n",
       " (0, 2, 2, 0, 1, 1),\n",
       " (0, 2, 2, 0, 1, 2),\n",
       " (0, 2, 2, 0, 2, 0),\n",
       " (0, 2, 2, 0, 2, 1),\n",
       " (0, 2, 2, 0, 2, 2),\n",
       " (0, 2, 2, 1, 0, 0),\n",
       " (0, 2, 2, 1, 0, 1),\n",
       " (0, 2, 2, 1, 0, 2),\n",
       " (0, 2, 2, 1, 1, 0),\n",
       " (0, 2, 2, 1, 1, 1),\n",
       " (0, 2, 2, 1, 1, 2),\n",
       " (0, 2, 2, 1, 2, 0),\n",
       " (0, 2, 2, 1, 2, 1),\n",
       " (0, 2, 2, 1, 2, 2),\n",
       " (0, 2, 2, 2, 0, 0),\n",
       " (0, 2, 2, 2, 0, 1),\n",
       " (0, 2, 2, 2, 0, 2),\n",
       " (0, 2, 2, 2, 1, 0),\n",
       " (0, 2, 2, 2, 1, 1),\n",
       " (0, 2, 2, 2, 1, 2),\n",
       " (0, 2, 2, 2, 2, 0),\n",
       " (0, 2, 2, 2, 2, 1),\n",
       " (0, 2, 2, 2, 2, 2),\n",
       " (1, 0, 0, 0, 0, 0),\n",
       " (1, 0, 0, 0, 0, 1),\n",
       " (1, 0, 0, 0, 0, 2),\n",
       " (1, 0, 0, 0, 1, 0),\n",
       " (1, 0, 0, 0, 1, 1),\n",
       " (1, 0, 0, 0, 1, 2),\n",
       " (1, 0, 0, 0, 2, 0),\n",
       " (1, 0, 0, 0, 2, 1),\n",
       " (1, 0, 0, 0, 2, 2),\n",
       " (1, 0, 0, 1, 0, 0),\n",
       " (1, 0, 0, 1, 0, 1),\n",
       " (1, 0, 0, 1, 0, 2),\n",
       " (1, 0, 0, 1, 1, 0),\n",
       " (1, 0, 0, 1, 1, 1),\n",
       " (1, 0, 0, 1, 1, 2),\n",
       " (1, 0, 0, 1, 2, 0),\n",
       " (1, 0, 0, 1, 2, 1),\n",
       " (1, 0, 0, 1, 2, 2),\n",
       " (1, 0, 0, 2, 0, 0),\n",
       " (1, 0, 0, 2, 0, 1),\n",
       " (1, 0, 0, 2, 0, 2),\n",
       " (1, 0, 0, 2, 1, 0),\n",
       " (1, 0, 0, 2, 1, 1),\n",
       " (1, 0, 0, 2, 1, 2),\n",
       " (1, 0, 0, 2, 2, 0),\n",
       " (1, 0, 0, 2, 2, 1),\n",
       " (1, 0, 0, 2, 2, 2),\n",
       " (1, 0, 1, 0, 0, 0),\n",
       " (1, 0, 1, 0, 0, 1),\n",
       " (1, 0, 1, 0, 0, 2),\n",
       " (1, 0, 1, 0, 1, 0),\n",
       " (1, 0, 1, 0, 1, 1),\n",
       " (1, 0, 1, 0, 1, 2),\n",
       " (1, 0, 1, 0, 2, 0),\n",
       " (1, 0, 1, 0, 2, 1),\n",
       " (1, 0, 1, 0, 2, 2),\n",
       " (1, 0, 1, 1, 0, 0),\n",
       " (1, 0, 1, 1, 0, 1),\n",
       " (1, 0, 1, 1, 0, 2),\n",
       " (1, 0, 1, 1, 1, 0),\n",
       " (1, 0, 1, 1, 1, 1),\n",
       " (1, 0, 1, 1, 1, 2),\n",
       " (1, 0, 1, 1, 2, 0),\n",
       " (1, 0, 1, 1, 2, 1),\n",
       " (1, 0, 1, 1, 2, 2),\n",
       " (1, 0, 1, 2, 0, 0),\n",
       " (1, 0, 1, 2, 0, 1),\n",
       " (1, 0, 1, 2, 0, 2),\n",
       " (1, 0, 1, 2, 1, 0),\n",
       " (1, 0, 1, 2, 1, 1),\n",
       " (1, 0, 1, 2, 1, 2),\n",
       " (1, 0, 1, 2, 2, 0),\n",
       " (1, 0, 1, 2, 2, 1),\n",
       " (1, 0, 1, 2, 2, 2),\n",
       " (1, 0, 2, 0, 0, 0),\n",
       " (1, 0, 2, 0, 0, 1),\n",
       " (1, 0, 2, 0, 0, 2),\n",
       " (1, 0, 2, 0, 1, 0),\n",
       " (1, 0, 2, 0, 1, 1),\n",
       " (1, 0, 2, 0, 1, 2),\n",
       " (1, 0, 2, 0, 2, 0),\n",
       " (1, 0, 2, 0, 2, 1),\n",
       " (1, 0, 2, 0, 2, 2),\n",
       " (1, 0, 2, 1, 0, 0),\n",
       " (1, 0, 2, 1, 0, 1),\n",
       " (1, 0, 2, 1, 0, 2),\n",
       " (1, 0, 2, 1, 1, 0),\n",
       " (1, 0, 2, 1, 1, 1),\n",
       " (1, 0, 2, 1, 1, 2),\n",
       " (1, 0, 2, 1, 2, 0),\n",
       " (1, 0, 2, 1, 2, 1),\n",
       " (1, 0, 2, 1, 2, 2),\n",
       " (1, 0, 2, 2, 0, 0),\n",
       " (1, 0, 2, 2, 0, 1),\n",
       " (1, 0, 2, 2, 0, 2),\n",
       " (1, 0, 2, 2, 1, 0),\n",
       " (1, 0, 2, 2, 1, 1),\n",
       " (1, 0, 2, 2, 1, 2),\n",
       " (1, 0, 2, 2, 2, 0),\n",
       " (1, 0, 2, 2, 2, 1),\n",
       " (1, 0, 2, 2, 2, 2),\n",
       " (1, 1, 0, 0, 0, 0),\n",
       " (1, 1, 0, 0, 0, 1),\n",
       " (1, 1, 0, 0, 0, 2),\n",
       " (1, 1, 0, 0, 1, 0),\n",
       " (1, 1, 0, 0, 1, 1),\n",
       " (1, 1, 0, 0, 1, 2),\n",
       " (1, 1, 0, 0, 2, 0),\n",
       " (1, 1, 0, 0, 2, 1),\n",
       " (1, 1, 0, 0, 2, 2),\n",
       " (1, 1, 0, 1, 0, 0),\n",
       " (1, 1, 0, 1, 0, 1),\n",
       " (1, 1, 0, 1, 0, 2),\n",
       " (1, 1, 0, 1, 1, 0),\n",
       " (1, 1, 0, 1, 1, 1),\n",
       " (1, 1, 0, 1, 1, 2),\n",
       " (1, 1, 0, 1, 2, 0),\n",
       " (1, 1, 0, 1, 2, 1),\n",
       " (1, 1, 0, 1, 2, 2),\n",
       " (1, 1, 0, 2, 0, 0),\n",
       " (1, 1, 0, 2, 0, 1),\n",
       " (1, 1, 0, 2, 0, 2),\n",
       " (1, 1, 0, 2, 1, 0),\n",
       " (1, 1, 0, 2, 1, 1),\n",
       " (1, 1, 0, 2, 1, 2),\n",
       " (1, 1, 0, 2, 2, 0),\n",
       " (1, 1, 0, 2, 2, 1),\n",
       " (1, 1, 0, 2, 2, 2),\n",
       " (1, 1, 1, 0, 0, 0),\n",
       " (1, 1, 1, 0, 0, 1),\n",
       " (1, 1, 1, 0, 0, 2),\n",
       " (1, 1, 1, 0, 1, 0),\n",
       " (1, 1, 1, 0, 1, 1),\n",
       " (1, 1, 1, 0, 1, 2),\n",
       " (1, 1, 1, 0, 2, 0),\n",
       " (1, 1, 1, 0, 2, 1),\n",
       " (1, 1, 1, 0, 2, 2),\n",
       " (1, 1, 1, 1, 0, 0),\n",
       " (1, 1, 1, 1, 0, 1),\n",
       " (1, 1, 1, 1, 0, 2),\n",
       " (1, 1, 1, 1, 1, 0),\n",
       " (1, 1, 1, 1, 1, 1),\n",
       " (1, 1, 1, 1, 1, 2),\n",
       " (1, 1, 1, 1, 2, 0),\n",
       " (1, 1, 1, 1, 2, 1),\n",
       " (1, 1, 1, 1, 2, 2),\n",
       " (1, 1, 1, 2, 0, 0),\n",
       " (1, 1, 1, 2, 0, 1),\n",
       " (1, 1, 1, 2, 0, 2),\n",
       " (1, 1, 1, 2, 1, 0),\n",
       " (1, 1, 1, 2, 1, 1),\n",
       " (1, 1, 1, 2, 1, 2),\n",
       " (1, 1, 1, 2, 2, 0),\n",
       " (1, 1, 1, 2, 2, 1),\n",
       " (1, 1, 1, 2, 2, 2),\n",
       " (1, 1, 2, 0, 0, 0),\n",
       " (1, 1, 2, 0, 0, 1),\n",
       " (1, 1, 2, 0, 0, 2),\n",
       " (1, 1, 2, 0, 1, 0),\n",
       " (1, 1, 2, 0, 1, 1),\n",
       " (1, 1, 2, 0, 1, 2),\n",
       " (1, 1, 2, 0, 2, 0),\n",
       " (1, 1, 2, 0, 2, 1),\n",
       " (1, 1, 2, 0, 2, 2),\n",
       " (1, 1, 2, 1, 0, 0),\n",
       " (1, 1, 2, 1, 0, 1),\n",
       " (1, 1, 2, 1, 0, 2),\n",
       " (1, 1, 2, 1, 1, 0),\n",
       " (1, 1, 2, 1, 1, 1),\n",
       " (1, 1, 2, 1, 1, 2),\n",
       " (1, 1, 2, 1, 2, 0),\n",
       " (1, 1, 2, 1, 2, 1),\n",
       " (1, 1, 2, 1, 2, 2),\n",
       " (1, 1, 2, 2, 0, 0),\n",
       " (1, 1, 2, 2, 0, 1),\n",
       " (1, 1, 2, 2, 0, 2),\n",
       " (1, 1, 2, 2, 1, 0),\n",
       " (1, 1, 2, 2, 1, 1),\n",
       " (1, 1, 2, 2, 1, 2),\n",
       " (1, 1, 2, 2, 2, 0),\n",
       " (1, 1, 2, 2, 2, 1),\n",
       " (1, 1, 2, 2, 2, 2),\n",
       " (1, 2, 0, 0, 0, 0),\n",
       " (1, 2, 0, 0, 0, 1),\n",
       " (1, 2, 0, 0, 0, 2),\n",
       " (1, 2, 0, 0, 1, 0),\n",
       " (1, 2, 0, 0, 1, 1),\n",
       " (1, 2, 0, 0, 1, 2),\n",
       " (1, 2, 0, 0, 2, 0),\n",
       " (1, 2, 0, 0, 2, 1),\n",
       " (1, 2, 0, 0, 2, 2),\n",
       " (1, 2, 0, 1, 0, 0),\n",
       " (1, 2, 0, 1, 0, 1),\n",
       " (1, 2, 0, 1, 0, 2),\n",
       " (1, 2, 0, 1, 1, 0),\n",
       " (1, 2, 0, 1, 1, 1),\n",
       " (1, 2, 0, 1, 1, 2),\n",
       " (1, 2, 0, 1, 2, 0),\n",
       " (1, 2, 0, 1, 2, 1),\n",
       " (1, 2, 0, 1, 2, 2),\n",
       " (1, 2, 0, 2, 0, 0),\n",
       " (1, 2, 0, 2, 0, 1),\n",
       " (1, 2, 0, 2, 0, 2),\n",
       " (1, 2, 0, 2, 1, 0),\n",
       " (1, 2, 0, 2, 1, 1),\n",
       " (1, 2, 0, 2, 1, 2),\n",
       " (1, 2, 0, 2, 2, 0),\n",
       " (1, 2, 0, 2, 2, 1),\n",
       " (1, 2, 0, 2, 2, 2),\n",
       " (1, 2, 1, 0, 0, 0),\n",
       " (1, 2, 1, 0, 0, 1),\n",
       " (1, 2, 1, 0, 0, 2),\n",
       " (1, 2, 1, 0, 1, 0),\n",
       " (1, 2, 1, 0, 1, 1),\n",
       " (1, 2, 1, 0, 1, 2),\n",
       " (1, 2, 1, 0, 2, 0),\n",
       " (1, 2, 1, 0, 2, 1),\n",
       " (1, 2, 1, 0, 2, 2),\n",
       " (1, 2, 1, 1, 0, 0),\n",
       " (1, 2, 1, 1, 0, 1),\n",
       " (1, 2, 1, 1, 0, 2),\n",
       " (1, 2, 1, 1, 1, 0),\n",
       " (1, 2, 1, 1, 1, 1),\n",
       " (1, 2, 1, 1, 1, 2),\n",
       " (1, 2, 1, 1, 2, 0),\n",
       " (1, 2, 1, 1, 2, 1),\n",
       " (1, 2, 1, 1, 2, 2),\n",
       " (1, 2, 1, 2, 0, 0),\n",
       " (1, 2, 1, 2, 0, 1),\n",
       " (1, 2, 1, 2, 0, 2),\n",
       " (1, 2, 1, 2, 1, 0),\n",
       " (1, 2, 1, 2, 1, 1),\n",
       " (1, 2, 1, 2, 1, 2),\n",
       " (1, 2, 1, 2, 2, 0),\n",
       " (1, 2, 1, 2, 2, 1),\n",
       " (1, 2, 1, 2, 2, 2),\n",
       " (1, 2, 2, 0, 0, 0),\n",
       " (1, 2, 2, 0, 0, 1),\n",
       " (1, 2, 2, 0, 0, 2),\n",
       " (1, 2, 2, 0, 1, 0),\n",
       " (1, 2, 2, 0, 1, 1),\n",
       " (1, 2, 2, 0, 1, 2),\n",
       " (1, 2, 2, 0, 2, 0),\n",
       " (1, 2, 2, 0, 2, 1),\n",
       " (1, 2, 2, 0, 2, 2),\n",
       " (1, 2, 2, 1, 0, 0),\n",
       " (1, 2, 2, 1, 0, 1),\n",
       " (1, 2, 2, 1, 0, 2),\n",
       " (1, 2, 2, 1, 1, 0),\n",
       " (1, 2, 2, 1, 1, 1),\n",
       " (1, 2, 2, 1, 1, 2),\n",
       " (1, 2, 2, 1, 2, 0),\n",
       " (1, 2, 2, 1, 2, 1),\n",
       " (1, 2, 2, 1, 2, 2),\n",
       " (1, 2, 2, 2, 0, 0),\n",
       " (1, 2, 2, 2, 0, 1),\n",
       " (1, 2, 2, 2, 0, 2),\n",
       " (1, 2, 2, 2, 1, 0),\n",
       " (1, 2, 2, 2, 1, 1),\n",
       " (1, 2, 2, 2, 1, 2),\n",
       " (1, 2, 2, 2, 2, 0),\n",
       " (1, 2, 2, 2, 2, 1),\n",
       " (1, 2, 2, 2, 2, 2),\n",
       " (2, 0, 0, 0, 0, 0),\n",
       " (2, 0, 0, 0, 0, 1),\n",
       " (2, 0, 0, 0, 0, 2),\n",
       " (2, 0, 0, 0, 1, 0),\n",
       " (2, 0, 0, 0, 1, 1),\n",
       " (2, 0, 0, 0, 1, 2),\n",
       " (2, 0, 0, 0, 2, 0),\n",
       " (2, 0, 0, 0, 2, 1),\n",
       " (2, 0, 0, 0, 2, 2),\n",
       " (2, 0, 0, 1, 0, 0),\n",
       " (2, 0, 0, 1, 0, 1),\n",
       " (2, 0, 0, 1, 0, 2),\n",
       " (2, 0, 0, 1, 1, 0),\n",
       " (2, 0, 0, 1, 1, 1),\n",
       " (2, 0, 0, 1, 1, 2),\n",
       " (2, 0, 0, 1, 2, 0),\n",
       " (2, 0, 0, 1, 2, 1),\n",
       " (2, 0, 0, 1, 2, 2),\n",
       " (2, 0, 0, 2, 0, 0),\n",
       " (2, 0, 0, 2, 0, 1),\n",
       " (2, 0, 0, 2, 0, 2),\n",
       " (2, 0, 0, 2, 1, 0),\n",
       " (2, 0, 0, 2, 1, 1),\n",
       " (2, 0, 0, 2, 1, 2),\n",
       " (2, 0, 0, 2, 2, 0),\n",
       " (2, 0, 0, 2, 2, 1),\n",
       " (2, 0, 0, 2, 2, 2),\n",
       " (2, 0, 1, 0, 0, 0),\n",
       " (2, 0, 1, 0, 0, 1),\n",
       " (2, 0, 1, 0, 0, 2),\n",
       " (2, 0, 1, 0, 1, 0),\n",
       " (2, 0, 1, 0, 1, 1),\n",
       " (2, 0, 1, 0, 1, 2),\n",
       " (2, 0, 1, 0, 2, 0),\n",
       " (2, 0, 1, 0, 2, 1),\n",
       " (2, 0, 1, 0, 2, 2),\n",
       " (2, 0, 1, 1, 0, 0),\n",
       " (2, 0, 1, 1, 0, 1),\n",
       " (2, 0, 1, 1, 0, 2),\n",
       " (2, 0, 1, 1, 1, 0),\n",
       " (2, 0, 1, 1, 1, 1),\n",
       " (2, 0, 1, 1, 1, 2),\n",
       " (2, 0, 1, 1, 2, 0),\n",
       " (2, 0, 1, 1, 2, 1),\n",
       " (2, 0, 1, 1, 2, 2),\n",
       " (2, 0, 1, 2, 0, 0),\n",
       " (2, 0, 1, 2, 0, 1),\n",
       " (2, 0, 1, 2, 0, 2),\n",
       " (2, 0, 1, 2, 1, 0),\n",
       " (2, 0, 1, 2, 1, 1),\n",
       " (2, 0, 1, 2, 1, 2),\n",
       " (2, 0, 1, 2, 2, 0),\n",
       " (2, 0, 1, 2, 2, 1),\n",
       " (2, 0, 1, 2, 2, 2),\n",
       " (2, 0, 2, 0, 0, 0),\n",
       " (2, 0, 2, 0, 0, 1),\n",
       " (2, 0, 2, 0, 0, 2),\n",
       " (2, 0, 2, 0, 1, 0),\n",
       " (2, 0, 2, 0, 1, 1),\n",
       " (2, 0, 2, 0, 1, 2),\n",
       " (2, 0, 2, 0, 2, 0),\n",
       " (2, 0, 2, 0, 2, 1),\n",
       " (2, 0, 2, 0, 2, 2),\n",
       " (2, 0, 2, 1, 0, 0),\n",
       " (2, 0, 2, 1, 0, 1),\n",
       " (2, 0, 2, 1, 0, 2),\n",
       " (2, 0, 2, 1, 1, 0),\n",
       " (2, 0, 2, 1, 1, 1),\n",
       " (2, 0, 2, 1, 1, 2),\n",
       " (2, 0, 2, 1, 2, 0),\n",
       " (2, 0, 2, 1, 2, 1),\n",
       " (2, 0, 2, 1, 2, 2),\n",
       " (2, 0, 2, 2, 0, 0),\n",
       " (2, 0, 2, 2, 0, 1),\n",
       " (2, 0, 2, 2, 0, 2),\n",
       " (2, 0, 2, 2, 1, 0),\n",
       " (2, 0, 2, 2, 1, 1),\n",
       " (2, 0, 2, 2, 1, 2),\n",
       " (2, 0, 2, 2, 2, 0),\n",
       " (2, 0, 2, 2, 2, 1),\n",
       " (2, 0, 2, 2, 2, 2),\n",
       " (2, 1, 0, 0, 0, 0),\n",
       " (2, 1, 0, 0, 0, 1),\n",
       " (2, 1, 0, 0, 0, 2),\n",
       " (2, 1, 0, 0, 1, 0),\n",
       " (2, 1, 0, 0, 1, 1),\n",
       " (2, 1, 0, 0, 1, 2),\n",
       " (2, 1, 0, 0, 2, 0),\n",
       " (2, 1, 0, 0, 2, 1),\n",
       " (2, 1, 0, 0, 2, 2),\n",
       " (2, 1, 0, 1, 0, 0),\n",
       " (2, 1, 0, 1, 0, 1),\n",
       " (2, 1, 0, 1, 0, 2),\n",
       " (2, 1, 0, 1, 1, 0),\n",
       " (2, 1, 0, 1, 1, 1),\n",
       " (2, 1, 0, 1, 1, 2),\n",
       " (2, 1, 0, 1, 2, 0),\n",
       " (2, 1, 0, 1, 2, 1),\n",
       " (2, 1, 0, 1, 2, 2),\n",
       " (2, 1, 0, 2, 0, 0),\n",
       " (2, 1, 0, 2, 0, 1),\n",
       " (2, 1, 0, 2, 0, 2),\n",
       " (2, 1, 0, 2, 1, 0),\n",
       " (2, 1, 0, 2, 1, 1),\n",
       " (2, 1, 0, 2, 1, 2),\n",
       " (2, 1, 0, 2, 2, 0),\n",
       " (2, 1, 0, 2, 2, 1),\n",
       " (2, 1, 0, 2, 2, 2),\n",
       " (2, 1, 1, 0, 0, 0),\n",
       " (2, 1, 1, 0, 0, 1),\n",
       " (2, 1, 1, 0, 0, 2),\n",
       " (2, 1, 1, 0, 1, 0),\n",
       " (2, 1, 1, 0, 1, 1),\n",
       " (2, 1, 1, 0, 1, 2),\n",
       " (2, 1, 1, 0, 2, 0),\n",
       " (2, 1, 1, 0, 2, 1),\n",
       " (2, 1, 1, 0, 2, 2),\n",
       " (2, 1, 1, 1, 0, 0),\n",
       " (2, 1, 1, 1, 0, 1),\n",
       " (2, 1, 1, 1, 0, 2),\n",
       " (2, 1, 1, 1, 1, 0),\n",
       " (2, 1, 1, 1, 1, 1),\n",
       " (2, 1, 1, 1, 1, 2),\n",
       " (2, 1, 1, 1, 2, 0),\n",
       " (2, 1, 1, 1, 2, 1),\n",
       " (2, 1, 1, 1, 2, 2),\n",
       " (2, 1, 1, 2, 0, 0),\n",
       " (2, 1, 1, 2, 0, 1),\n",
       " (2, 1, 1, 2, 0, 2),\n",
       " (2, 1, 1, 2, 1, 0),\n",
       " (2, 1, 1, 2, 1, 1),\n",
       " (2, 1, 1, 2, 1, 2),\n",
       " (2, 1, 1, 2, 2, 0),\n",
       " (2, 1, 1, 2, 2, 1),\n",
       " (2, 1, 1, 2, 2, 2),\n",
       " (2, 1, 2, 0, 0, 0),\n",
       " (2, 1, 2, 0, 0, 1),\n",
       " (2, 1, 2, 0, 0, 2),\n",
       " (2, 1, 2, 0, 1, 0),\n",
       " (2, 1, 2, 0, 1, 1),\n",
       " (2, 1, 2, 0, 1, 2),\n",
       " (2, 1, 2, 0, 2, 0),\n",
       " (2, 1, 2, 0, 2, 1),\n",
       " (2, 1, 2, 0, 2, 2),\n",
       " (2, 1, 2, 1, 0, 0),\n",
       " (2, 1, 2, 1, 0, 1),\n",
       " (2, 1, 2, 1, 0, 2),\n",
       " (2, 1, 2, 1, 1, 0),\n",
       " (2, 1, 2, 1, 1, 1),\n",
       " (2, 1, 2, 1, 1, 2),\n",
       " (2, 1, 2, 1, 2, 0),\n",
       " (2, 1, 2, 1, 2, 1),\n",
       " (2, 1, 2, 1, 2, 2),\n",
       " (2, 1, 2, 2, 0, 0),\n",
       " (2, 1, 2, 2, 0, 1),\n",
       " (2, 1, 2, 2, 0, 2),\n",
       " (2, 1, 2, 2, 1, 0),\n",
       " (2, 1, 2, 2, 1, 1),\n",
       " (2, 1, 2, 2, 1, 2),\n",
       " (2, 1, 2, 2, 2, 0),\n",
       " (2, 1, 2, 2, 2, 1),\n",
       " (2, 1, 2, 2, 2, 2),\n",
       " (2, 2, 0, 0, 0, 0),\n",
       " (2, 2, 0, 0, 0, 1),\n",
       " (2, 2, 0, 0, 0, 2),\n",
       " (2, 2, 0, 0, 1, 0),\n",
       " (2, 2, 0, 0, 1, 1),\n",
       " (2, 2, 0, 0, 1, 2),\n",
       " (2, 2, 0, 0, 2, 0),\n",
       " (2, 2, 0, 0, 2, 1),\n",
       " (2, 2, 0, 0, 2, 2),\n",
       " (2, 2, 0, 1, 0, 0),\n",
       " (2, 2, 0, 1, 0, 1),\n",
       " (2, 2, 0, 1, 0, 2),\n",
       " (2, 2, 0, 1, 1, 0),\n",
       " (2, 2, 0, 1, 1, 1),\n",
       " (2, 2, 0, 1, 1, 2),\n",
       " (2, 2, 0, 1, 2, 0),\n",
       " (2, 2, 0, 1, 2, 1),\n",
       " (2, 2, 0, 1, 2, 2),\n",
       " (2, 2, 0, 2, 0, 0),\n",
       " (2, 2, 0, 2, 0, 1),\n",
       " (2, 2, 0, 2, 0, 2),\n",
       " (2, 2, 0, 2, 1, 0),\n",
       " (2, 2, 0, 2, 1, 1),\n",
       " (2, 2, 0, 2, 1, 2),\n",
       " (2, 2, 0, 2, 2, 0),\n",
       " (2, 2, 0, 2, 2, 1),\n",
       " (2, 2, 0, 2, 2, 2),\n",
       " (2, 2, 1, 0, 0, 0),\n",
       " (2, 2, 1, 0, 0, 1),\n",
       " (2, 2, 1, 0, 0, 2),\n",
       " (2, 2, 1, 0, 1, 0),\n",
       " (2, 2, 1, 0, 1, 1),\n",
       " (2, 2, 1, 0, 1, 2),\n",
       " (2, 2, 1, 0, 2, 0),\n",
       " (2, 2, 1, 0, 2, 1),\n",
       " (2, 2, 1, 0, 2, 2),\n",
       " (2, 2, 1, 1, 0, 0),\n",
       " (2, 2, 1, 1, 0, 1),\n",
       " (2, 2, 1, 1, 0, 2),\n",
       " (2, 2, 1, 1, 1, 0),\n",
       " (2, 2, 1, 1, 1, 1),\n",
       " (2, 2, 1, 1, 1, 2),\n",
       " (2, 2, 1, 1, 2, 0),\n",
       " (2, 2, 1, 1, 2, 1),\n",
       " (2, 2, 1, 1, 2, 2),\n",
       " (2, 2, 1, 2, 0, 0),\n",
       " (2, 2, 1, 2, 0, 1),\n",
       " (2, 2, 1, 2, 0, 2),\n",
       " (2, 2, 1, 2, 1, 0),\n",
       " (2, 2, 1, 2, 1, 1),\n",
       " (2, 2, 1, 2, 1, 2),\n",
       " (2, 2, 1, 2, 2, 0),\n",
       " (2, 2, 1, 2, 2, 1),\n",
       " (2, 2, 1, 2, 2, 2),\n",
       " (2, 2, 2, 0, 0, 0),\n",
       " (2, 2, 2, 0, 0, 1),\n",
       " (2, 2, 2, 0, 0, 2),\n",
       " (2, 2, 2, 0, 1, 0),\n",
       " (2, 2, 2, 0, 1, 1),\n",
       " (2, 2, 2, 0, 1, 2),\n",
       " (2, 2, 2, 0, 2, 0),\n",
       " (2, 2, 2, 0, 2, 1),\n",
       " (2, 2, 2, 0, 2, 2),\n",
       " (2, 2, 2, 1, 0, 0),\n",
       " (2, 2, 2, 1, 0, 1),\n",
       " (2, 2, 2, 1, 0, 2),\n",
       " (2, 2, 2, 1, 1, 0),\n",
       " (2, 2, 2, 1, 1, 1),\n",
       " (2, 2, 2, 1, 1, 2),\n",
       " (2, 2, 2, 1, 2, 0),\n",
       " (2, 2, 2, 1, 2, 1),\n",
       " (2, 2, 2, 1, 2, 2),\n",
       " (2, 2, 2, 2, 0, 0),\n",
       " (2, 2, 2, 2, 0, 1),\n",
       " (2, 2, 2, 2, 0, 2),\n",
       " (2, 2, 2, 2, 1, 0),\n",
       " (2, 2, 2, 2, 1, 1),\n",
       " (2, 2, 2, 2, 1, 2),\n",
       " (2, 2, 2, 2, 2, 0),\n",
       " (2, 2, 2, 2, 2, 1),\n",
       " (2, 2, 2, 2, 2, 2)]"
      ]
     },
     "execution_count": 67,
     "metadata": {},
     "output_type": "execute_result"
    }
   ],
   "source": [
    "combi"
   ]
  },
  {
   "cell_type": "code",
   "execution_count": 68,
   "id": "e6e280c6-bdae-44b7-9f30-63996aadc76e",
   "metadata": {},
   "outputs": [],
   "source": [
    "arima_combi= [(x[0],x[1],x[2]) for x in combi]\n",
    "sarima_combi= [(x[3],x[4],x[5],S) for x in combi]"
   ]
  },
  {
   "cell_type": "code",
   "execution_count": null,
   "id": "d7456b63-e538-4a4b-9135-071e503f630f",
   "metadata": {},
   "outputs": [],
   "source": []
  },
  {
   "cell_type": "code",
   "execution_count": 69,
   "id": "3a6d8969-edb9-441a-89e6-2103a8c43c79",
   "metadata": {},
   "outputs": [],
   "source": [
    "total_rev=revv['total_revenue']"
   ]
  },
  {
   "cell_type": "code",
   "execution_count": 70,
   "id": "30a03b63-fd13-4bd1-8e5d-6fba3031a361",
   "metadata": {},
   "outputs": [
    {
     "data": {
      "text/html": [
       "<div>\n",
       "<style scoped>\n",
       "    .dataframe tbody tr th:only-of-type {\n",
       "        vertical-align: middle;\n",
       "    }\n",
       "\n",
       "    .dataframe tbody tr th {\n",
       "        vertical-align: top;\n",
       "    }\n",
       "\n",
       "    .dataframe thead th {\n",
       "        text-align: right;\n",
       "    }\n",
       "</style>\n",
       "<table border=\"1\" class=\"dataframe\">\n",
       "  <thead>\n",
       "    <tr style=\"text-align: right;\">\n",
       "      <th></th>\n",
       "      <th>Unnamed: 0</th>\n",
       "      <th>week</th>\n",
       "      <th>year</th>\n",
       "      <th>date</th>\n",
       "      <th>total_revenue</th>\n",
       "      <th>month</th>\n",
       "    </tr>\n",
       "  </thead>\n",
       "  <tbody>\n",
       "    <tr>\n",
       "      <th>0</th>\n",
       "      <td>96</td>\n",
       "      <td>49</td>\n",
       "      <td>2009</td>\n",
       "      <td>2009-12-01</td>\n",
       "      <td>232177.51</td>\n",
       "      <td>12</td>\n",
       "    </tr>\n",
       "    <tr>\n",
       "      <th>1</th>\n",
       "      <td>99</td>\n",
       "      <td>50</td>\n",
       "      <td>2009</td>\n",
       "      <td>2009-12-07</td>\n",
       "      <td>207908.73</td>\n",
       "      <td>12</td>\n",
       "    </tr>\n",
       "    <tr>\n",
       "      <th>2</th>\n",
       "      <td>101</td>\n",
       "      <td>51</td>\n",
       "      <td>2009</td>\n",
       "      <td>2009-12-14</td>\n",
       "      <td>207685.87</td>\n",
       "      <td>12</td>\n",
       "    </tr>\n",
       "    <tr>\n",
       "      <th>3</th>\n",
       "      <td>103</td>\n",
       "      <td>52</td>\n",
       "      <td>2009</td>\n",
       "      <td>2009-12-21</td>\n",
       "      <td>35731.90</td>\n",
       "      <td>12</td>\n",
       "    </tr>\n",
       "    <tr>\n",
       "      <th>4</th>\n",
       "      <td>0</td>\n",
       "      <td>1</td>\n",
       "      <td>2010</td>\n",
       "      <td>2010-01-04</td>\n",
       "      <td>167636.95</td>\n",
       "      <td>1</td>\n",
       "    </tr>\n",
       "    <tr>\n",
       "      <th>...</th>\n",
       "      <td>...</td>\n",
       "      <td>...</td>\n",
       "      <td>...</td>\n",
       "      <td>...</td>\n",
       "      <td>...</td>\n",
       "      <td>...</td>\n",
       "    </tr>\n",
       "    <tr>\n",
       "      <th>99</th>\n",
       "      <td>89</td>\n",
       "      <td>45</td>\n",
       "      <td>2011</td>\n",
       "      <td>2011-11-07</td>\n",
       "      <td>263717.33</td>\n",
       "      <td>11</td>\n",
       "    </tr>\n",
       "    <tr>\n",
       "      <th>100</th>\n",
       "      <td>91</td>\n",
       "      <td>46</td>\n",
       "      <td>2011</td>\n",
       "      <td>2011-11-14</td>\n",
       "      <td>276216.98</td>\n",
       "      <td>11</td>\n",
       "    </tr>\n",
       "    <tr>\n",
       "      <th>101</th>\n",
       "      <td>93</td>\n",
       "      <td>47</td>\n",
       "      <td>2011</td>\n",
       "      <td>2011-11-21</td>\n",
       "      <td>248234.58</td>\n",
       "      <td>11</td>\n",
       "    </tr>\n",
       "    <tr>\n",
       "      <th>102</th>\n",
       "      <td>95</td>\n",
       "      <td>48</td>\n",
       "      <td>2011</td>\n",
       "      <td>2011-11-28</td>\n",
       "      <td>250833.04</td>\n",
       "      <td>11</td>\n",
       "    </tr>\n",
       "    <tr>\n",
       "      <th>103</th>\n",
       "      <td>98</td>\n",
       "      <td>49</td>\n",
       "      <td>2011</td>\n",
       "      <td>2011-12-05</td>\n",
       "      <td>408044.97</td>\n",
       "      <td>12</td>\n",
       "    </tr>\n",
       "  </tbody>\n",
       "</table>\n",
       "<p>104 rows × 6 columns</p>\n",
       "</div>"
      ],
      "text/plain": [
       "     Unnamed: 0  week  year       date  total_revenue  month\n",
       "0            96    49  2009 2009-12-01      232177.51     12\n",
       "1            99    50  2009 2009-12-07      207908.73     12\n",
       "2           101    51  2009 2009-12-14      207685.87     12\n",
       "3           103    52  2009 2009-12-21       35731.90     12\n",
       "4             0     1  2010 2010-01-04      167636.95      1\n",
       "..          ...   ...   ...        ...            ...    ...\n",
       "99           89    45  2011 2011-11-07      263717.33     11\n",
       "100          91    46  2011 2011-11-14      276216.98     11\n",
       "101          93    47  2011 2011-11-21      248234.58     11\n",
       "102          95    48  2011 2011-11-28      250833.04     11\n",
       "103          98    49  2011 2011-12-05      408044.97     12\n",
       "\n",
       "[104 rows x 6 columns]"
      ]
     },
     "execution_count": 70,
     "metadata": {},
     "output_type": "execute_result"
    }
   ],
   "source": [
    "(totes_rev)"
   ]
  },
  {
   "cell_type": "code",
   "execution_count": 71,
   "id": "35185aa0-35f8-4e82-b7e5-8ca3ef1529ce",
   "metadata": {},
   "outputs": [],
   "source": [
    "totes_rev.set_index(pd.to_datetime(totes_rev['date']),inplace=True)"
   ]
  },
  {
   "cell_type": "code",
   "execution_count": null,
   "id": "630805d1-04c4-41b0-b3be-e23275e6c014",
   "metadata": {},
   "outputs": [],
   "source": []
  },
  {
   "cell_type": "code",
   "execution_count": 72,
   "id": "6df151c2-acd1-4c83-bd6a-44dced3418c4",
   "metadata": {},
   "outputs": [
    {
     "data": {
      "text/html": [
       "<div>\n",
       "<style scoped>\n",
       "    .dataframe tbody tr th:only-of-type {\n",
       "        vertical-align: middle;\n",
       "    }\n",
       "\n",
       "    .dataframe tbody tr th {\n",
       "        vertical-align: top;\n",
       "    }\n",
       "\n",
       "    .dataframe thead th {\n",
       "        text-align: right;\n",
       "    }\n",
       "</style>\n",
       "<table border=\"1\" class=\"dataframe\">\n",
       "  <thead>\n",
       "    <tr style=\"text-align: right;\">\n",
       "      <th></th>\n",
       "      <th>Unnamed: 0</th>\n",
       "      <th>week</th>\n",
       "      <th>year</th>\n",
       "      <th>total_revenue</th>\n",
       "      <th>month</th>\n",
       "    </tr>\n",
       "    <tr>\n",
       "      <th>date</th>\n",
       "      <th></th>\n",
       "      <th></th>\n",
       "      <th></th>\n",
       "      <th></th>\n",
       "      <th></th>\n",
       "    </tr>\n",
       "  </thead>\n",
       "  <tbody>\n",
       "    <tr>\n",
       "      <th>2009-12-31</th>\n",
       "      <td>399</td>\n",
       "      <td>202</td>\n",
       "      <td>8036</td>\n",
       "      <td>683504.010</td>\n",
       "      <td>48</td>\n",
       "    </tr>\n",
       "    <tr>\n",
       "      <th>2010-01-31</th>\n",
       "      <td>12</td>\n",
       "      <td>10</td>\n",
       "      <td>8040</td>\n",
       "      <td>555802.672</td>\n",
       "      <td>4</td>\n",
       "    </tr>\n",
       "    <tr>\n",
       "      <th>2010-02-28</th>\n",
       "      <td>44</td>\n",
       "      <td>26</td>\n",
       "      <td>8040</td>\n",
       "      <td>504558.956</td>\n",
       "      <td>8</td>\n",
       "    </tr>\n",
       "    <tr>\n",
       "      <th>2010-03-31</th>\n",
       "      <td>100</td>\n",
       "      <td>55</td>\n",
       "      <td>10050</td>\n",
       "      <td>725625.131</td>\n",
       "      <td>15</td>\n",
       "    </tr>\n",
       "    <tr>\n",
       "      <th>2010-04-30</th>\n",
       "      <td>116</td>\n",
       "      <td>62</td>\n",
       "      <td>8040</td>\n",
       "      <td>575677.512</td>\n",
       "      <td>16</td>\n",
       "    </tr>\n",
       "    <tr>\n",
       "      <th>2010-05-31</th>\n",
       "      <td>148</td>\n",
       "      <td>78</td>\n",
       "      <td>8040</td>\n",
       "      <td>585491.210</td>\n",
       "      <td>20</td>\n",
       "    </tr>\n",
       "    <tr>\n",
       "      <th>2010-06-30</th>\n",
       "      <td>230</td>\n",
       "      <td>120</td>\n",
       "      <td>10050</td>\n",
       "      <td>692303.570</td>\n",
       "      <td>30</td>\n",
       "    </tr>\n",
       "    <tr>\n",
       "      <th>2010-07-31</th>\n",
       "      <td>220</td>\n",
       "      <td>114</td>\n",
       "      <td>8040</td>\n",
       "      <td>564441.680</td>\n",
       "      <td>28</td>\n",
       "    </tr>\n",
       "    <tr>\n",
       "      <th>2010-08-31</th>\n",
       "      <td>320</td>\n",
       "      <td>165</td>\n",
       "      <td>10050</td>\n",
       "      <td>672394.450</td>\n",
       "      <td>40</td>\n",
       "    </tr>\n",
       "    <tr>\n",
       "      <th>2010-09-30</th>\n",
       "      <td>292</td>\n",
       "      <td>150</td>\n",
       "      <td>8040</td>\n",
       "      <td>801092.561</td>\n",
       "      <td>36</td>\n",
       "    </tr>\n",
       "    <tr>\n",
       "      <th>2010-10-31</th>\n",
       "      <td>324</td>\n",
       "      <td>166</td>\n",
       "      <td>8040</td>\n",
       "      <td>960225.600</td>\n",
       "      <td>40</td>\n",
       "    </tr>\n",
       "    <tr>\n",
       "      <th>2010-11-30</th>\n",
       "      <td>450</td>\n",
       "      <td>230</td>\n",
       "      <td>10050</td>\n",
       "      <td>1315087.992</td>\n",
       "      <td>55</td>\n",
       "    </tr>\n",
       "    <tr>\n",
       "      <th>2010-12-31</th>\n",
       "      <td>299</td>\n",
       "      <td>150</td>\n",
       "      <td>6030</td>\n",
       "      <td>421794.760</td>\n",
       "      <td>36</td>\n",
       "    </tr>\n",
       "    <tr>\n",
       "      <th>2011-01-31</th>\n",
       "      <td>25</td>\n",
       "      <td>15</td>\n",
       "      <td>10055</td>\n",
       "      <td>655250.690</td>\n",
       "      <td>5</td>\n",
       "    </tr>\n",
       "    <tr>\n",
       "      <th>2011-02-28</th>\n",
       "      <td>56</td>\n",
       "      <td>30</td>\n",
       "      <td>8044</td>\n",
       "      <td>461295.680</td>\n",
       "      <td>8</td>\n",
       "    </tr>\n",
       "    <tr>\n",
       "      <th>2011-03-31</th>\n",
       "      <td>88</td>\n",
       "      <td>46</td>\n",
       "      <td>8044</td>\n",
       "      <td>523082.050</td>\n",
       "      <td>12</td>\n",
       "    </tr>\n",
       "    <tr>\n",
       "      <th>2011-04-30</th>\n",
       "      <td>120</td>\n",
       "      <td>62</td>\n",
       "      <td>8044</td>\n",
       "      <td>443972.011</td>\n",
       "      <td>16</td>\n",
       "    </tr>\n",
       "    <tr>\n",
       "      <th>2011-05-31</th>\n",
       "      <td>195</td>\n",
       "      <td>100</td>\n",
       "      <td>10055</td>\n",
       "      <td>754304.210</td>\n",
       "      <td>25</td>\n",
       "    </tr>\n",
       "    <tr>\n",
       "      <th>2011-06-30</th>\n",
       "      <td>192</td>\n",
       "      <td>98</td>\n",
       "      <td>8044</td>\n",
       "      <td>594258.050</td>\n",
       "      <td>24</td>\n",
       "    </tr>\n",
       "    <tr>\n",
       "      <th>2011-07-31</th>\n",
       "      <td>224</td>\n",
       "      <td>114</td>\n",
       "      <td>8044</td>\n",
       "      <td>580843.731</td>\n",
       "      <td>28</td>\n",
       "    </tr>\n",
       "    <tr>\n",
       "      <th>2011-08-31</th>\n",
       "      <td>325</td>\n",
       "      <td>165</td>\n",
       "      <td>10055</td>\n",
       "      <td>728543.950</td>\n",
       "      <td>40</td>\n",
       "    </tr>\n",
       "    <tr>\n",
       "      <th>2011-09-30</th>\n",
       "      <td>296</td>\n",
       "      <td>150</td>\n",
       "      <td>8044</td>\n",
       "      <td>877677.272</td>\n",
       "      <td>36</td>\n",
       "    </tr>\n",
       "    <tr>\n",
       "      <th>2011-10-31</th>\n",
       "      <td>415</td>\n",
       "      <td>210</td>\n",
       "      <td>10055</td>\n",
       "      <td>1250529.620</td>\n",
       "      <td>50</td>\n",
       "    </tr>\n",
       "    <tr>\n",
       "      <th>2011-11-30</th>\n",
       "      <td>368</td>\n",
       "      <td>186</td>\n",
       "      <td>8044</td>\n",
       "      <td>1039001.930</td>\n",
       "      <td>44</td>\n",
       "    </tr>\n",
       "    <tr>\n",
       "      <th>2011-12-31</th>\n",
       "      <td>98</td>\n",
       "      <td>49</td>\n",
       "      <td>2011</td>\n",
       "      <td>408044.970</td>\n",
       "      <td>12</td>\n",
       "    </tr>\n",
       "  </tbody>\n",
       "</table>\n",
       "</div>"
      ],
      "text/plain": [
       "            Unnamed: 0  week   year  total_revenue  month\n",
       "date                                                     \n",
       "2009-12-31         399   202   8036     683504.010     48\n",
       "2010-01-31          12    10   8040     555802.672      4\n",
       "2010-02-28          44    26   8040     504558.956      8\n",
       "2010-03-31         100    55  10050     725625.131     15\n",
       "2010-04-30         116    62   8040     575677.512     16\n",
       "2010-05-31         148    78   8040     585491.210     20\n",
       "2010-06-30         230   120  10050     692303.570     30\n",
       "2010-07-31         220   114   8040     564441.680     28\n",
       "2010-08-31         320   165  10050     672394.450     40\n",
       "2010-09-30         292   150   8040     801092.561     36\n",
       "2010-10-31         324   166   8040     960225.600     40\n",
       "2010-11-30         450   230  10050    1315087.992     55\n",
       "2010-12-31         299   150   6030     421794.760     36\n",
       "2011-01-31          25    15  10055     655250.690      5\n",
       "2011-02-28          56    30   8044     461295.680      8\n",
       "2011-03-31          88    46   8044     523082.050     12\n",
       "2011-04-30         120    62   8044     443972.011     16\n",
       "2011-05-31         195   100  10055     754304.210     25\n",
       "2011-06-30         192    98   8044     594258.050     24\n",
       "2011-07-31         224   114   8044     580843.731     28\n",
       "2011-08-31         325   165  10055     728543.950     40\n",
       "2011-09-30         296   150   8044     877677.272     36\n",
       "2011-10-31         415   210  10055    1250529.620     50\n",
       "2011-11-30         368   186   8044    1039001.930     44\n",
       "2011-12-31          98    49   2011     408044.970     12"
      ]
     },
     "execution_count": 72,
     "metadata": {},
     "output_type": "execute_result"
    }
   ],
   "source": [
    "totes_rev.resample(\"M\").sum()"
   ]
  },
  {
   "cell_type": "code",
   "execution_count": 73,
   "id": "1b14d5c3-1173-46dd-9f4e-af372a1eab99",
   "metadata": {},
   "outputs": [],
   "source": [
    "# totes_rev=totes_rev.iloc[:,3]"
   ]
  },
  {
   "cell_type": "code",
   "execution_count": 74,
   "id": "dd9cc83c-e4b5-4ea2-bab3-0f16a5f3865d",
   "metadata": {},
   "outputs": [],
   "source": [
    "t= totes_rev['total_revenue']"
   ]
  },
  {
   "cell_type": "code",
   "execution_count": 75,
   "id": "41a42b47-6f5c-4bff-90a3-665477f59c93",
   "metadata": {},
   "outputs": [],
   "source": [
    "t= pd.DataFrame(t)"
   ]
  },
  {
   "cell_type": "code",
   "execution_count": 76,
   "id": "2fba0036-07ea-476a-a959-8cf4b9c31a13",
   "metadata": {},
   "outputs": [
    {
     "data": {
      "text/html": [
       "<div>\n",
       "<style scoped>\n",
       "    .dataframe tbody tr th:only-of-type {\n",
       "        vertical-align: middle;\n",
       "    }\n",
       "\n",
       "    .dataframe tbody tr th {\n",
       "        vertical-align: top;\n",
       "    }\n",
       "\n",
       "    .dataframe thead th {\n",
       "        text-align: right;\n",
       "    }\n",
       "</style>\n",
       "<table border=\"1\" class=\"dataframe\">\n",
       "  <thead>\n",
       "    <tr style=\"text-align: right;\">\n",
       "      <th></th>\n",
       "      <th>total_revenue</th>\n",
       "    </tr>\n",
       "    <tr>\n",
       "      <th>date</th>\n",
       "      <th></th>\n",
       "    </tr>\n",
       "  </thead>\n",
       "  <tbody>\n",
       "    <tr>\n",
       "      <th>2009-12-01</th>\n",
       "      <td>232177.51</td>\n",
       "    </tr>\n",
       "    <tr>\n",
       "      <th>2009-12-07</th>\n",
       "      <td>207908.73</td>\n",
       "    </tr>\n",
       "    <tr>\n",
       "      <th>2009-12-14</th>\n",
       "      <td>207685.87</td>\n",
       "    </tr>\n",
       "    <tr>\n",
       "      <th>2009-12-21</th>\n",
       "      <td>35731.90</td>\n",
       "    </tr>\n",
       "    <tr>\n",
       "      <th>2010-01-04</th>\n",
       "      <td>167636.95</td>\n",
       "    </tr>\n",
       "    <tr>\n",
       "      <th>...</th>\n",
       "      <td>...</td>\n",
       "    </tr>\n",
       "    <tr>\n",
       "      <th>2011-11-07</th>\n",
       "      <td>263717.33</td>\n",
       "    </tr>\n",
       "    <tr>\n",
       "      <th>2011-11-14</th>\n",
       "      <td>276216.98</td>\n",
       "    </tr>\n",
       "    <tr>\n",
       "      <th>2011-11-21</th>\n",
       "      <td>248234.58</td>\n",
       "    </tr>\n",
       "    <tr>\n",
       "      <th>2011-11-28</th>\n",
       "      <td>250833.04</td>\n",
       "    </tr>\n",
       "    <tr>\n",
       "      <th>2011-12-05</th>\n",
       "      <td>408044.97</td>\n",
       "    </tr>\n",
       "  </tbody>\n",
       "</table>\n",
       "<p>104 rows × 1 columns</p>\n",
       "</div>"
      ],
      "text/plain": [
       "            total_revenue\n",
       "date                     \n",
       "2009-12-01      232177.51\n",
       "2009-12-07      207908.73\n",
       "2009-12-14      207685.87\n",
       "2009-12-21       35731.90\n",
       "2010-01-04      167636.95\n",
       "...                   ...\n",
       "2011-11-07      263717.33\n",
       "2011-11-14      276216.98\n",
       "2011-11-21      248234.58\n",
       "2011-11-28      250833.04\n",
       "2011-12-05      408044.97\n",
       "\n",
       "[104 rows x 1 columns]"
      ]
     },
     "execution_count": 76,
     "metadata": {},
     "output_type": "execute_result"
    }
   ],
   "source": [
    "t"
   ]
  },
  {
   "cell_type": "code",
   "execution_count": 77,
   "id": "b6f7d8ab-d6f9-4eb7-be9a-554ba8e5c5fb",
   "metadata": {},
   "outputs": [],
   "source": [
    "import statsmodels.api as sm"
   ]
  },
  {
   "cell_type": "code",
   "execution_count": 78,
   "id": "4fcd9e79-db83-4ac1-b8ce-a1557d8d7294",
   "metadata": {},
   "outputs": [
    {
     "data": {
      "text/plain": [
       "729"
      ]
     },
     "execution_count": 78,
     "metadata": {},
     "output_type": "execute_result"
    }
   ],
   "source": [
    "len(arima_combi)"
   ]
  },
  {
   "cell_type": "code",
   "execution_count": 79,
   "id": "c3e6ec90-913f-4aa2-8118-a3309a9dd99d",
   "metadata": {},
   "outputs": [],
   "source": [
    "import warnings\n",
    "warnings.simplefilter(\"ignore\")"
   ]
  },
  {
   "cell_type": "code",
   "execution_count": 89,
   "id": "21c2057f-5197-42e9-acd6-9cb57f0e5603",
   "metadata": {},
   "outputs": [],
   "source": [
    "list1=[]\n",
    "for i in range(0,int(len(combi)*0.3)):\n",
    "    model= sm.tsa.statespace.SARIMAX (t,order=arima_combi[i], seasonal_order=sarima_combi[i])\n",
    "    result= model.fit()\n",
    "    list1.append((arima_combi[i],sarima_combi[i],result.aic))\n",
    "    "
   ]
  },
  {
   "cell_type": "code",
   "execution_count": 90,
   "id": "9e766517-2de0-4170-b200-2fc53d08cb64",
   "metadata": {
    "scrolled": true,
    "tags": []
   },
   "outputs": [
    {
     "data": {
      "text/plain": [
       "[((0, 0, 0), (0, 0, 0, 12), 2812.1418892379706),\n",
       " ((0, 0, 0), (0, 0, 1, 12), 2783.37776487748),\n",
       " ((0, 0, 0), (0, 0, 2, 12), 2781.760079660935),\n",
       " ((0, 0, 0), (0, 1, 0, 12), 2360.4199732065317),\n",
       " ((0, 0, 0), (0, 1, 1, 12), 2348.954829872998),\n",
       " ((0, 0, 0), (0, 1, 2, 12), 2350.733684763907),\n",
       " ((0, 0, 0), (0, 2, 0, 12), 2134.9743990741745),\n",
       " ((0, 0, 0), (0, 2, 1, 12), 2088.8207948616664),\n",
       " ((0, 0, 0), (0, 2, 2, 12), 2070.462059815366),\n",
       " ((0, 0, 0), (1, 0, 0, 12), 2685.5339667502976),\n",
       " ((0, 0, 0), (1, 0, 1, 12), 2671.429629853284),\n",
       " ((0, 0, 0), (1, 0, 2, 12), 2656.9643977431333),\n",
       " ((0, 0, 0), (1, 1, 0, 12), 2348.0097443695854),\n",
       " ((0, 0, 0), (1, 1, 1, 12), 2347.1071702263343),\n",
       " ((0, 0, 0), (1, 1, 2, 12), 2353.084626928079),\n",
       " ((0, 0, 0), (1, 2, 0, 12), 2097.733513941762),\n",
       " ((0, 0, 0), (1, 2, 1, 12), 2072.7464745557736),\n",
       " ((0, 0, 0), (1, 2, 2, 12), 2073.6038390145814),\n",
       " ((0, 0, 0), (2, 0, 0, 12), 2673.522639075497),\n",
       " ((0, 0, 0), (2, 0, 1, 12), 2667.104580607999),\n",
       " ((0, 0, 0), (2, 0, 2, 12), 2658.6050018732017),\n",
       " ((0, 0, 0), (2, 1, 0, 12), 2347.738202908901),\n",
       " ((0, 0, 0), (2, 1, 1, 12), 2347.7030656914017),\n",
       " ((0, 0, 0), (2, 1, 2, 12), 2356.39453695684),\n",
       " ((0, 0, 0), (2, 2, 0, 12), 2086.412325832159),\n",
       " ((0, 0, 0), (2, 2, 1, 12), 2072.15998130881),\n",
       " ((0, 0, 0), (2, 2, 2, 12), 2074.5402085840724),\n",
       " ((0, 0, 1), (0, 0, 0, 12), 2753.176103871893),\n",
       " ((0, 0, 1), (0, 0, 1, 12), 2745.759837469164),\n",
       " ((0, 0, 1), (0, 0, 2, 12), 2743.327003002739),\n",
       " ((0, 0, 1), (0, 1, 0, 12), 2332.0563797245427),\n",
       " ((0, 0, 1), (0, 1, 1, 12), 2316.442316071084),\n",
       " ((0, 0, 1), (0, 1, 2, 12), 2318.2267257587023),\n",
       " ((0, 0, 1), (0, 2, 0, 12), 2105.693757958623),\n",
       " ((0, 0, 1), (0, 2, 1, 12), 2073.748431037664),\n",
       " ((0, 0, 1), (0, 2, 2, 12), 2071.9557196202013),\n",
       " ((0, 0, 1), (1, 0, 0, 12), 2738.594263403982),\n",
       " ((0, 0, 1), (1, 0, 1, 12), 2737.9480748612314),\n",
       " ((0, 0, 1), (1, 0, 2, 12), 2739.9303337790616),\n",
       " ((0, 0, 1), (1, 1, 0, 12), 2318.9548610270294),\n",
       " ((0, 0, 1), (1, 1, 1, 12), 2318.222317855158),\n",
       " ((0, 0, 1), (1, 1, 2, 12), 2319.326147860299),\n",
       " ((0, 0, 1), (1, 2, 0, 12), 2078.2346223594895),\n",
       " ((0, 0, 1), (1, 2, 1, 12), 2072.1905965048963),\n",
       " ((0, 0, 1), (1, 2, 2, 12), 2073.8538298377694),\n",
       " ((0, 0, 1), (2, 0, 0, 12), 2738.852531822855),\n",
       " ((0, 0, 1), (2, 0, 1, 12), 2739.9285741483554),\n",
       " ((0, 0, 1), (2, 0, 2, 12), 2741.9168084743815),\n",
       " ((0, 0, 1), (2, 1, 0, 12), 2319.3538794724495),\n",
       " ((0, 0, 1), (2, 1, 1, 12), 2320.2183482003184),\n",
       " ((0, 0, 1), (2, 1, 2, 12), 2321.605861170418),\n",
       " ((0, 0, 1), (2, 2, 0, 12), 2074.8014147984914),\n",
       " ((0, 0, 1), (2, 2, 1, 12), 2073.7990151988733),\n",
       " ((0, 0, 1), (2, 2, 2, 12), 2075.7694169345255),\n",
       " ((0, 0, 2), (0, 0, 0, 12), 2737.935485438483),\n",
       " ((0, 0, 2), (0, 0, 1, 12), 2736.8126109215477),\n",
       " ((0, 0, 2), (0, 0, 2, 12), 2737.4628489353713),\n",
       " ((0, 0, 2), (0, 1, 0, 12), 2318.083317254324),\n",
       " ((0, 0, 2), (0, 1, 1, 12), 2300.383552543824),\n",
       " ((0, 0, 2), (0, 1, 2, 12), 2302.2059884794558),\n",
       " ((0, 0, 2), (0, 2, 0, 12), 2089.086797769917),\n",
       " ((0, 0, 2), (0, 2, 1, 12), 2055.93853513238),\n",
       " ((0, 0, 2), (0, 2, 2, 12), 2053.8754472158535),\n",
       " ((0, 0, 2), (1, 0, 0, 12), 2734.8350234336885),\n",
       " ((0, 0, 2), (1, 0, 1, 12), 2735.345287577291),\n",
       " ((0, 0, 2), (1, 0, 2, 12), 2737.322741316855),\n",
       " ((0, 0, 2), (1, 1, 0, 12), 2304.765957546407),\n",
       " ((0, 0, 2), (1, 1, 1, 12), 2302.230862447433),\n",
       " ((0, 0, 2), (1, 1, 2, 12), 2303.777551364643),\n",
       " ((0, 0, 2), (1, 2, 0, 12), 2062.973703785641),\n",
       " ((0, 0, 2), (1, 2, 1, 12), 2054.8465160163896),\n",
       " ((0, 0, 2), (1, 2, 2, 12), 2055.871768147781),\n",
       " ((0, 0, 2), (2, 0, 0, 12), 2736.008408388437),\n",
       " ((0, 0, 2), (2, 0, 1, 12), 2737.3231734882147),\n",
       " ((0, 0, 2), (2, 0, 2, 12), 2739.3434021448993),\n",
       " ((0, 0, 2), (2, 1, 0, 12), 2303.9577918735667),\n",
       " ((0, 0, 2), (2, 1, 1, 12), 2304.1313229716266),\n",
       " ((0, 0, 2), (2, 1, 2, 12), 2305.7397536979724),\n",
       " ((0, 0, 2), (2, 2, 0, 12), 2058.0971928746576),\n",
       " ((0, 0, 2), (2, 2, 1, 12), 2055.71736591835),\n",
       " ((0, 0, 2), (2, 2, 2, 12), 2057.478998729548),\n",
       " ((0, 1, 0), (0, 0, 0, 12), 2526.802855678631),\n",
       " ((0, 1, 0), (0, 0, 1, 12), 2527.833105570897),\n",
       " ((0, 1, 0), (0, 0, 2, 12), 2532.4135069397134),\n",
       " ((0, 1, 0), (0, 1, 0, 12), 2291.8998142177466),\n",
       " ((0, 1, 0), (0, 1, 1, 12), 2255.240302203368),\n",
       " ((0, 1, 0), (0, 1, 2, 12), 2276.36923366627),\n",
       " ((0, 1, 0), (0, 2, 0, 12), 2071.3637056356138),\n",
       " ((0, 1, 0), (0, 2, 1, 12), 2013.4368082262367),\n",
       " ((0, 1, 0), (0, 2, 2, 12), 1979.0258481801418),\n",
       " ((0, 1, 0), (1, 0, 0, 12), 2528.7846504673594),\n",
       " ((0, 1, 0), (1, 0, 1, 12), 2529.789239428907),\n",
       " ((0, 1, 0), (1, 0, 2, 12), 2534.048224956738),\n",
       " ((0, 1, 0), (1, 1, 0, 12), 2267.7267278513305),\n",
       " ((0, 1, 0), (1, 1, 1, 12), 2255.0248368575117),\n",
       " ((0, 1, 0), (1, 1, 2, 12), 2273.975291491307),\n",
       " ((0, 1, 0), (1, 2, 0, 12), 2025.312731321458),\n",
       " ((0, 1, 0), (1, 2, 1, 12), 1995.872840938035),\n",
       " ((0, 1, 0), (1, 2, 2, 12), 1982.275420646326),\n",
       " ((0, 1, 0), (2, 0, 0, 12), 2529.6385958349315),\n",
       " ((0, 1, 0), (2, 0, 1, 12), 2531.6937379311526),\n",
       " ((0, 1, 0), (2, 0, 2, 12), 2534.618274801629),\n",
       " ((0, 1, 0), (2, 1, 0, 12), 2259.059253687423),\n",
       " ((0, 1, 0), (2, 1, 1, 12), 2253.5333793130194),\n",
       " ((0, 1, 0), (2, 1, 2, 12), 2272.866741466814),\n",
       " ((0, 1, 0), (2, 2, 0, 12), 2006.2301676222667),\n",
       " ((0, 1, 0), (2, 2, 1, 12), 1989.5921376236702),\n",
       " ((0, 1, 0), (2, 2, 2, 12), 1983.3716590171393),\n",
       " ((0, 1, 1), (0, 0, 0, 12), 2509.6626294575594),\n",
       " ((0, 1, 1), (0, 0, 1, 12), 2508.6227914042224),\n",
       " ((0, 1, 1), (0, 0, 2, 12), 2510.2130903644897),\n",
       " ((0, 1, 1), (0, 1, 0, 12), 2283.7018716990938),\n",
       " ((0, 1, 1), (0, 1, 1, 12), 2247.970022701344),\n",
       " ((0, 1, 1), (0, 1, 2, 12), 2249.570159203215),\n",
       " ((0, 1, 1), (0, 2, 0, 12), 2064.2266218406858),\n",
       " ((0, 1, 1), (0, 2, 1, 12), 2021.1435884326813),\n",
       " ((0, 1, 1), (0, 2, 2, 12), 2014.4417060788305),\n",
       " ((0, 1, 1), (1, 0, 0, 12), 2509.2226126467017),\n",
       " ((0, 1, 1), (1, 0, 1, 12), 2510.3887184502687),\n",
       " ((0, 1, 1), (1, 0, 2, 12), 2512.0949377248676),\n",
       " ((0, 1, 1), (1, 1, 0, 12), 2262.3350623900583),\n",
       " ((0, 1, 1), (1, 1, 1, 12), 2249.7009939359837),\n",
       " ((0, 1, 1), (1, 1, 2, 12), 2251.9644939543196),\n",
       " ((0, 1, 1), (1, 2, 0, 12), 2032.2326830136578),\n",
       " ((0, 1, 1), (1, 2, 1, 12), 2016.9772016729592),\n",
       " ((0, 1, 1), (1, 2, 2, 12), 2016.3014491713593),\n",
       " ((0, 1, 1), (2, 0, 0, 12), 2509.89487621992),\n",
       " ((0, 1, 1), (2, 0, 1, 12), 2511.884621933496),\n",
       " ((0, 1, 1), (2, 0, 2, 12), 2513.769650542221),\n",
       " ((0, 1, 1), (2, 1, 0, 12), 2253.6844390296765),\n",
       " ((0, 1, 1), (2, 1, 1, 12), 2250.3814313701355),\n",
       " ((0, 1, 1), (2, 1, 2, 12), 2252.3516728432983),\n",
       " ((0, 1, 1), (2, 2, 0, 12), 2020.9938919760154),\n",
       " ((0, 1, 1), (2, 2, 1, 12), 2016.116160198295),\n",
       " ((0, 1, 1), (2, 2, 2, 12), 2017.6386414367012),\n",
       " ((0, 1, 2), (0, 0, 0, 12), 2510.0689750596925),\n",
       " ((0, 1, 2), (0, 0, 1, 12), 2509.4153014623366),\n",
       " ((0, 1, 2), (0, 0, 2, 12), 2511.1375912015546),\n",
       " ((0, 1, 2), (0, 1, 0, 12), 2283.508212276977),\n",
       " ((0, 1, 2), (0, 1, 1, 12), 2250.30871733357),\n",
       " ((0, 1, 2), (0, 1, 2, 12), 2251.92505427616),\n",
       " ((0, 1, 2), (0, 2, 0, 12), 2065.540264896187),\n",
       " ((0, 1, 2), (0, 2, 1, 12), 2024.012026875981),\n",
       " ((0, 1, 2), (0, 2, 2, 12), 2017.615054777105),\n",
       " ((0, 1, 2), (1, 0, 0, 12), 2509.842577943205),\n",
       " ((0, 1, 2), (1, 0, 1, 12), 2511.2401724944216),\n",
       " ((0, 1, 2), (1, 0, 2, 12), 2513.0864301997285),\n",
       " ((0, 1, 2), (1, 1, 0, 12), 2261.823363948856),\n",
       " ((0, 1, 2), (1, 1, 1, 12), 2252.0225683980925),\n",
       " ((0, 1, 2), (1, 1, 2, 12), 2254.252711961024),\n",
       " ((0, 1, 2), (1, 2, 0, 12), 2031.406341923802),\n",
       " ((0, 1, 2), (1, 2, 1, 12), 2019.3107983937823),\n",
       " ((0, 1, 2), (1, 2, 2, 12), 2019.3730512623924),\n",
       " ((0, 1, 2), (2, 0, 0, 12), 2510.9704749635566),\n",
       " ((0, 1, 2), (2, 0, 1, 12), 2512.970344612517),\n",
       " ((0, 1, 2), (2, 0, 2, 12), 2514.8921226777),\n",
       " ((0, 1, 2), (2, 1, 0, 12), 2256.0561328389394),\n",
       " ((0, 1, 2), (2, 1, 1, 12), 2253.194068967364),\n",
       " ((0, 1, 2), (2, 1, 2, 12), 2255.165306894505),\n",
       " ((0, 1, 2), (2, 2, 0, 12), 2023.2883365586113),\n",
       " ((0, 1, 2), (2, 2, 1, 12), 2019.3630357805853),\n",
       " ((0, 1, 2), (2, 2, 2, 12), 2020.9586982315845),\n",
       " ((0, 2, 0), (0, 0, 0, 12), 2600.6176038576245),\n",
       " ((0, 2, 0), (0, 0, 1, 12), 2602.3342606530246),\n",
       " ((0, 2, 0), (0, 0, 2, 12), 2605.985298924634),\n",
       " ((0, 2, 0), (0, 1, 0, 12), 2352.259586835514),\n",
       " ((0, 2, 0), (0, 1, 1, 12), 2317.8898473814797),\n",
       " ((0, 2, 0), (0, 1, 2, 12), 2323.725462561755),\n",
       " ((0, 2, 0), (0, 2, 0, 12), 2118.420240922487),\n",
       " ((0, 2, 0), (0, 2, 1, 12), 2065.6230695161958),\n",
       " ((0, 2, 0), (0, 2, 2, 12), 2054.8499535630503),\n",
       " ((0, 2, 0), (1, 0, 0, 12), 2603.5780273764567),\n",
       " ((0, 2, 0), (1, 0, 1, 12), 2601.4883219467238),\n",
       " ((0, 2, 0), (1, 0, 2, 12), 2604.5780927377696),\n",
       " ((0, 2, 0), (1, 1, 0, 12), 2320.9197526927683),\n",
       " ((0, 2, 0), (1, 1, 1, 12), 2312.5896338280136),\n",
       " ((0, 2, 0), (1, 1, 2, 12), 2317.0896635431945),\n",
       " ((0, 2, 0), (1, 2, 0, 12), 2063.042962886692),\n",
       " ((0, 2, 0), (1, 2, 1, 12), 2040.3987489629317),\n",
       " ((0, 2, 0), (1, 2, 2, 12), 2031.9577596668546),\n",
       " ((0, 2, 0), (2, 0, 0, 12), 2603.853725600759),\n",
       " ((0, 2, 0), (2, 0, 1, 12), 2603.504241464114),\n",
       " ((0, 2, 0), (2, 0, 2, 12), 2606.48359400331),\n",
       " ((0, 2, 0), (2, 1, 0, 12), 2317.554933596567),\n",
       " ((0, 2, 0), (2, 1, 1, 12), 2312.7546302679925),\n",
       " ((0, 2, 0), (2, 1, 2, 12), 2318.9337085655784),\n",
       " ((0, 2, 0), (2, 2, 0, 12), 2049.151210933148),\n",
       " ((0, 2, 0), (2, 2, 1, 12), 2037.4013628515004),\n",
       " ((0, 2, 0), (2, 2, 2, 12), 2070.5987785581515),\n",
       " ((0, 2, 1), (0, 0, 0, 12), 2513.6420197187304),\n",
       " ((0, 2, 1), (0, 0, 1, 12), 2514.9073130616634),\n",
       " ((0, 2, 1), (0, 0, 2, 12), 2516.845252533568),\n",
       " ((0, 2, 1), (0, 1, 0, 12), 2272.6996865254077),\n",
       " ((0, 2, 1), (0, 1, 1, 12), 2249.8923211852675),\n",
       " ((0, 2, 1), (0, 1, 2, 12), 2251.623130889665),\n",
       " ((0, 2, 1), (0, 2, 0, 12), 2049.4800189817715),\n",
       " ((0, 2, 1), (0, 2, 1, 12), 2021.3746760004456),\n",
       " ((0, 2, 1), (0, 2, 2, 12), 2017.7028034448226),\n",
       " ((0, 2, 1), (1, 0, 0, 12), 2514.973873525542),\n",
       " ((0, 2, 1), (1, 0, 1, 12), 2516.8785795041886),\n",
       " ((0, 2, 1), (1, 0, 2, 12), 2518.819803791844),\n",
       " ((0, 2, 1), (1, 1, 0, 12), 2257.4032745201002),\n",
       " ((0, 2, 1), (1, 1, 1, 12), 2251.681141028614),\n",
       " ((0, 2, 1), (1, 1, 2, 12), 2253.587029744007),\n",
       " ((0, 2, 1), (1, 2, 0, 12), 2026.5760243711168),\n",
       " ((0, 2, 1), (1, 2, 1, 12), 2019.010776022799),\n",
       " ((0, 2, 1), (1, 2, 2, 12), 2019.620729634035),\n",
       " ((0, 2, 1), (2, 0, 0, 12), 2516.7683126802226),\n",
       " ((0, 2, 1), (2, 0, 1, 12), 2518.752049939417),\n",
       " ((0, 2, 1), (2, 0, 2, 12), 2519.5622030647596),\n",
       " ((0, 2, 1), (2, 1, 0, 12), 2253.978003380709),\n",
       " ((0, 2, 1), (2, 1, 1, 12), 2253.3028033091505),\n",
       " ((0, 2, 1), (2, 1, 2, 12), 2255.284044696979),\n",
       " ((0, 2, 1), (2, 2, 0, 12), 2021.2915239363372),\n",
       " ((0, 2, 1), (2, 2, 1, 12), 2019.6213248338984),\n",
       " ((0, 2, 1), (2, 2, 2, 12), 2021.2910506196367),\n",
       " ((0, 2, 2), (0, 0, 0, 12), 2504.8820844151423),\n",
       " ((0, 2, 2), (0, 0, 1, 12), 2504.695870614788)]"
      ]
     },
     "execution_count": 90,
     "metadata": {},
     "output_type": "execute_result"
    }
   ],
   "source": [
    "list1"
   ]
  },
  {
   "cell_type": "code",
   "execution_count": 106,
   "id": "a5fbf31d-a2ed-43d7-8d99-7f5ae41ca167",
   "metadata": {},
   "outputs": [],
   "source": [
    "min=10**10\n",
    "for i in range(len(list1)):\n",
    "    if list1[i][-1]<min:\n",
    "        min= list1[i][-1]\n",
    "        param=list1[i][:-1]"
   ]
  },
  {
   "cell_type": "code",
   "execution_count": 107,
   "id": "a7fed2f3-0bc3-4464-b252-de6ef5ca0876",
   "metadata": {},
   "outputs": [
    {
     "data": {
      "text/plain": [
       "1979.0258481801418"
      ]
     },
     "execution_count": 107,
     "metadata": {},
     "output_type": "execute_result"
    }
   ],
   "source": [
    "min"
   ]
  },
  {
   "cell_type": "code",
   "execution_count": 114,
   "id": "2115f2a2-d748-4735-952c-be1c52e999a6",
   "metadata": {},
   "outputs": [
    {
     "data": {
      "text/plain": [
       "(0, 2, 2, 12)"
      ]
     },
     "execution_count": 114,
     "metadata": {},
     "output_type": "execute_result"
    }
   ],
   "source": [
    "param[1]"
   ]
  },
  {
   "cell_type": "code",
   "execution_count": 110,
   "id": "49fb7133-6202-4457-84c8-8d42a9b9c63f",
   "metadata": {},
   "outputs": [],
   "source": [
    "best_model=sm.tsa.statespace.SARIMAX(t,order=param[0], seasonal_order=param[1])"
   ]
  },
  {
   "cell_type": "code",
   "execution_count": 116,
   "id": "4952cc02-550f-4647-ae5d-e44859ac7c5b",
   "metadata": {},
   "outputs": [
    {
     "data": {
      "text/plain": [
       "1979.0258481801418"
      ]
     },
     "execution_count": 116,
     "metadata": {},
     "output_type": "execute_result"
    }
   ],
   "source": [
    "best_model.fit().aic"
   ]
  },
  {
   "cell_type": "code",
   "execution_count": 117,
   "id": "0148f476-3629-4762-8f29-25f69ede025a",
   "metadata": {},
   "outputs": [],
   "source": [
    "results=best_model.fit()"
   ]
  },
  {
   "cell_type": "code",
   "execution_count": 119,
   "id": "216162b1-3914-45d5-9779-e08e41a7abac",
   "metadata": {},
   "outputs": [],
   "source": [
    "fitting=results.get_prediction(start=\"2009-12-01\")"
   ]
  },
  {
   "cell_type": "code",
   "execution_count": 121,
   "id": "27ae4afe-99d2-4f0f-a09f-ea5ae4372c3e",
   "metadata": {},
   "outputs": [],
   "source": [
    "fitted_mean=fitting.predicted_mean"
   ]
  },
  {
   "cell_type": "code",
   "execution_count": 122,
   "id": "b074259e-090b-4889-95a0-8c250b98651c",
   "metadata": {},
   "outputs": [
    {
     "data": {
      "text/plain": [
       "date\n",
       "2009-12-01         0.000000\n",
       "2009-12-07    232177.510000\n",
       "2009-12-14    207908.730000\n",
       "2009-12-21    207685.870000\n",
       "2010-01-04     35731.900000\n",
       "                  ...      \n",
       "2011-11-07    261900.939059\n",
       "2011-11-14    222979.536985\n",
       "2011-11-21    304523.317652\n",
       "2011-11-28    246252.524864\n",
       "2011-12-05    256867.485424\n",
       "Name: predicted_mean, Length: 104, dtype: float64"
      ]
     },
     "execution_count": 122,
     "metadata": {},
     "output_type": "execute_result"
    }
   ],
   "source": [
    "fitted_mean"
   ]
  },
  {
   "cell_type": "code",
   "execution_count": 125,
   "id": "e02e914f-457c-4f93-a04a-c0464d4f8b27",
   "metadata": {
    "tags": []
   },
   "outputs": [
    {
     "data": {
      "text/plain": [
       "<AxesSubplot:xlabel='date'>"
      ]
     },
     "execution_count": 125,
     "metadata": {},
     "output_type": "execute_result"
    },
    {
     "data": {
      "image/png": "[encoded data removed]",
      "text/plain": [
       "<Figure size 432x288 with 1 Axes>"
      ]
     },
     "metadata": {
      "needs_background": "light"
     },
     "output_type": "display_data"
    },
    {
     "data": {
      "image/png": "[encoded data removed]",
      "text/plain": [
       "<Figure size 432x288 with 1 Axes>"
      ]
     },
     "metadata": {
      "needs_background": "light"
     },
     "output_type": "display_data"
    }
   ],
   "source": [
    "fitted_mean.plot()\n",
    "t.plot()"
   ]
  },
  {
   "cell_type": "code",
   "execution_count": 133,
   "id": "4c0ac6a7-898a-4eba-bf60-f20046d58f2f",
   "metadata": {
    "tags": []
   },
   "outputs": [
    {
     "data": {
      "text/plain": [
       "<matplotlib.legend.Legend at 0x2391febeb80>"
      ]
     },
     "execution_count": 133,
     "metadata": {},
     "output_type": "execute_result"
    },
    {
     "data": {
      "image/png": "[encoded data removed]",
      "text/plain": [
       "<Figure size 1440x720 with 1 Axes>"
      ]
     },
     "metadata": {
      "needs_background": "light"
     },
     "output_type": "display_data"
    }
   ],
   "source": [
    "plt.figure(figsize=[20,10])\n",
    "plt.plot(t, label='Original')\n",
    "plt.plot(fitted_mean, label='Fitted')\n",
    "plt.legend()"
   ]
  },
  {
   "cell_type": "code",
   "execution_count": 151,
   "id": "f3674f4b-22ab-4aa7-a75c-896d0a69d40b",
   "metadata": {},
   "outputs": [],
   "source": [
    "forecated_vals= results.get_forecast(steps=15)"
   ]
  },
  {
   "cell_type": "code",
   "execution_count": 152,
   "id": "5e7ce7d8-7e18-4743-ac47-74f5d82d8a5f",
   "metadata": {},
   "outputs": [],
   "source": [
    "forecast=forecated_vals.predicted_mean"
   ]
  },
  {
   "cell_type": "code",
   "execution_count": 153,
   "id": "cc1f4541-bf34-4079-b226-711a7b8f9ad2",
   "metadata": {},
   "outputs": [
    {
     "data": {
      "text/plain": [
       "<matplotlib.legend.Legend at 0x23928d18190>"
      ]
     },
     "execution_count": 153,
     "metadata": {},
     "output_type": "execute_result"
    },
    {
     "data": {
      "image/png": "[encoded data removed]",
      "text/plain": [
       "<Figure size 1440x720 with 1 Axes>"
      ]
     },
     "metadata": {
      "needs_background": "light"
     },
     "output_type": "display_data"
    }
   ],
   "source": [
    "plt.figure(figsize=[20,10])\n",
    "plt.plot(t.values, label='Original')\n",
    "plt.plot(fitted_mean.values, label='Fitted')\n",
    "plt.plot(forecast, label=\"Forecast\")\n",
    "plt.legend()"
   ]
  },
  {
   "cell_type": "code",
   "execution_count": 144,
   "id": "cf237f5e-38c0-465f-8fbe-48a3ec9f97e3",
   "metadata": {},
   "outputs": [
    {
     "data": {
      "text/plain": [
       "[<matplotlib.lines.Line2D at 0x23926f474c0>]"
      ]
     },
     "execution_count": 144,
     "metadata": {},
     "output_type": "execute_result"
    },
    {
     "data": {
      "image/png": "[encoded data removed]",
      "text/plain": [
       "<Figure size 432x288 with 1 Axes>"
      ]
     },
     "metadata": {
      "needs_background": "light"
     },
     "output_type": "display_data"
    }
   ],
   "source": [
    "plt.plot(forecast, label=\"Forecast\")"
   ]
  },
  {
   "cell_type": "code",
   "execution_count": 188,
   "id": "cd5c4c99-deab-4c71-bdd4-711cb50db84c",
   "metadata": {},
   "outputs": [],
   "source": [
    "error=[]\n",
    "abs_error=[]\n",
    "for i in range(t.shape[0]):\n",
    "    error.append(t.values[i]-fitted_mean[i])\n",
    "    abs_error.append(abs(t.values[i]-fitted_mean[i]))\n",
    "    \n",
    "fract_err= error/t.values\n",
    "fract_abs_err= abs_error/t.values\n",
    "\n",
    "# err_pct= (error/t.values)*100\n",
    "# me=np.mean((error/t.values)*100)\n",
    "# ae=abs(error/t.values)*100\n",
    "# mape= np.mean(abs(error/t.values)*100)\n",
    "\n",
    "# # mse="
   ]
  },
  {
   "cell_type": "code",
   "execution_count": 201,
   "id": "3214724f-ad96-4f4b-bed5-13ea7592e213",
   "metadata": {},
   "outputs": [
    {
     "data": {
      "text/plain": [
       "[<matplotlib.lines.Line2D at 0x23929237940>]"
      ]
     },
     "execution_count": 201,
     "metadata": {},
     "output_type": "execute_result"
    },
    {
     "data": {
      "image/png": "[encoded data removed]",
      "text/plain": [
       "<Figure size 432x288 with 1 Axes>"
      ]
     },
     "metadata": {
      "needs_background": "light"
     },
     "output_type": "display_data"
    }
   ],
   "source": [
    "plt.plot(fract_abs_err)"
   ]
  },
  {
   "cell_type": "code",
   "execution_count": 202,
   "id": "0b2a0b5e-4330-4d85-ad49-34c033a027c1",
   "metadata": {},
   "outputs": [
    {
     "data": {
      "text/plain": [
       "[<matplotlib.lines.Line2D at 0x2392ab18cd0>]"
      ]
     },
     "execution_count": 202,
     "metadata": {},
     "output_type": "execute_result"
    },
    {
     "data": {
      "image/png": "[encoded data removed]",
      "text/plain": [
       "<Figure size 432x288 with 1 Axes>"
      ]
     },
     "metadata": {
      "needs_background": "light"
     },
     "output_type": "display_data"
    }
   ],
   "source": [
    "plt.plot(fract_err)"
   ]
  },
  {
   "cell_type": "code",
   "execution_count": 203,
   "id": "03b12633-3ef7-444d-b52e-027f7c611e5d",
   "metadata": {},
   "outputs": [
    {
     "data": {
      "text/plain": [
       "-0.09753189680114255"
      ]
     },
     "execution_count": 203,
     "metadata": {},
     "output_type": "execute_result"
    }
   ],
   "source": [
    "fract_err.mean()"
   ]
  },
  {
   "cell_type": "code",
   "execution_count": 204,
   "id": "6fe63128-56c3-491e-92ab-dfc44c3a7f9c",
   "metadata": {},
   "outputs": [
    {
     "data": {
      "text/plain": [
       "0.4291390428800674"
      ]
     },
     "execution_count": 204,
     "metadata": {},
     "output_type": "execute_result"
    }
   ],
   "source": [
    "fract_abs_err.mean()"
   ]
  },
  {
   "cell_type": "code",
   "execution_count": 206,
   "id": "763ffe79-41f6-4b5d-b067-ce4ad64ed0e0",
   "metadata": {},
   "outputs": [
    {
     "data": {
      "text/plain": [
       "0.3403281991203718"
      ]
     },
     "execution_count": 206,
     "metadata": {},
     "output_type": "execute_result"
    }
   ],
   "source": [
    "fract_abs_err[fract_abs_err<=2].mean()"
   ]
  },
  {
   "cell_type": "code",
   "execution_count": 210,
   "id": "5ab415f5-7a07-4117-b486-398f0db2aa36",
   "metadata": {},
   "outputs": [
    {
     "data": {
      "text/plain": [
       "3"
      ]
     },
     "execution_count": 210,
     "metadata": {},
     "output_type": "execute_result"
    }
   ],
   "source": [
    "(fract_abs_err>=2).sum()"
   ]
  },
  {
   "cell_type": "code",
   "execution_count": 219,
   "id": "b94426bc-08c7-4339-9304-39097dfc3986",
   "metadata": {},
   "outputs": [
    {
     "data": {
      "text/plain": [
       "0.2743548045434741"
      ]
     },
     "execution_count": 219,
     "metadata": {},
     "output_type": "execute_result"
    }
   ],
   "source": [
    "fract_abs_err[fract_abs_err<=0.8].mean()"
   ]
  },
  {
   "cell_type": "code",
   "execution_count": 220,
   "id": "335b2a98-af57-4820-b9b7-5f7b6566ae64",
   "metadata": {},
   "outputs": [
    {
     "data": {
      "text/plain": [
       "11"
      ]
     },
     "execution_count": 220,
     "metadata": {},
     "output_type": "execute_result"
    }
   ],
   "source": [
    "(fract_abs_err>=0.8).sum()"
   ]
  },
  {
   "cell_type": "code",
   "execution_count": 221,
   "id": "d6b41438-e907-42e0-b189-56c2d7349797",
   "metadata": {},
   "outputs": [
    {
     "data": {
      "text/plain": [
       "(104, 1)"
      ]
     },
     "execution_count": 221,
     "metadata": {},
     "output_type": "execute_result"
    }
   ],
   "source": [
    "fract_abs_err.shape"
   ]
  },
  {
   "cell_type": "code",
   "execution_count": 237,
   "id": "01728feb-e01d-4bb2-b06f-5d759ec33edf",
   "metadata": {},
   "outputs": [
    {
     "data": {
      "text/plain": [
       "93"
      ]
     },
     "execution_count": 237,
     "metadata": {},
     "output_type": "execute_result"
    }
   ],
   "source": [
    "(fract_abs_err<=0.8).sum()"
   ]
  },
  {
   "cell_type": "code",
   "execution_count": 240,
   "id": "0d1a7025-153c-458d-a22e-db079ce39c35",
   "metadata": {},
   "outputs": [],
   "source": [
    "list2=[(fract_abs_err[fract_abs_err<=0.8]).mean()]*(fract_abs_err<=0.8).sum()"
   ]
  },
  {
   "cell_type": "code",
   "execution_count": 241,
   "id": "2d426cbd-6325-490c-8ef0-a13c1c26944c",
   "metadata": {},
   "outputs": [
    {
     "data": {
      "text/plain": [
       "93"
      ]
     },
     "execution_count": 241,
     "metadata": {},
     "output_type": "execute_result"
    }
   ],
   "source": [
    "len(list2)"
   ]
  },
  {
   "cell_type": "code",
   "execution_count": 243,
   "id": "ccc32c9d-3427-4a72-9168-428be1959203",
   "metadata": {},
   "outputs": [
    {
     "data": {
      "text/plain": [
       "[<matplotlib.lines.Line2D at 0x2392ae0fb20>]"
      ]
     },
     "execution_count": 243,
     "metadata": {},
     "output_type": "execute_result"
    },
    {
     "data": {
      "image/png": "[encoded data removed]",
      "text/plain": [
       "<Figure size 432x288 with 1 Axes>"
      ]
     },
     "metadata": {
      "needs_background": "light"
     },
     "output_type": "display_data"
    }
   ],
   "source": [
    "plt.plot(fract_abs_err[fract_abs_err<=0.8])\n",
    "# plt.show()\n",
    "plt.plot(list2)\n",
    "\n"
   ]
  },
  {
   "cell_type": "code",
   "execution_count": 256,
   "id": "722f8d2e-98b7-48cf-9a0c-7be27be76485",
   "metadata": {},
   "outputs": [
    {
     "data": {
      "application/javascript": [
       "\n",
       "        if (window._pyforest_update_imports_cell) { window._pyforest_update_imports_cell('import numpy as np'); }\n",
       "    "
      ],
      "text/plain": [
       "<IPython.core.display.Javascript object>"
      ]
     },
     "metadata": {},
     "output_type": "display_data"
    }
   ],
   "source": [
    "list3=(np.asarray(error)[fract_abs_err<=0.8])/t[fract_abs_err<=0.8].values"
   ]
  },
  {
   "cell_type": "code",
   "execution_count": 257,
   "id": "8a6d4ef2-392d-4dcf-b6f9-3a136c0a4a50",
   "metadata": {},
   "outputs": [
    {
     "data": {
      "text/plain": [
       "0.05592764602263527"
      ]
     },
     "execution_count": 257,
     "metadata": {},
     "output_type": "execute_result"
    }
   ],
   "source": [
    "list3.mean()"
   ]
  },
  {
   "cell_type": "code",
   "execution_count": 270,
   "id": "af976b85-4058-46cd-99b9-c11179347b30",
   "metadata": {},
   "outputs": [
    {
     "data": {
      "text/plain": [
       "[<matplotlib.lines.Line2D at 0x2392bc82be0>]"
      ]
     },
     "execution_count": 270,
     "metadata": {},
     "output_type": "execute_result"
    },
    {
     "data": {
      "image/png": "[encoded data removed]",
      "text/plain": [
       "<Figure size 2160x720 with 1 Axes>"
      ]
     },
     "metadata": {
      "needs_background": "light"
     },
     "output_type": "display_data"
    }
   ],
   "source": [
    "plt.figure(figsize=[30,10])\n",
    "plt.plot(fract_abs_err[fract_abs_err<=0.8])\n",
    "# plt.show()\n",
    "plt.plot(list2)\n",
    "plt.plot(fract_err[fract_abs_err<=0.8],color='pink')\n",
    "\n",
    "\n"
   ]
  },
  {
   "cell_type": "code",
   "execution_count": 265,
   "id": "29823f45-c07f-4e14-8f53-c4969ae68e98",
   "metadata": {},
   "outputs": [
    {
     "data": {
      "text/plain": [
       "[array([[-1.16728047e-01, -1.07191266e-03,  6.34437284e-01, ...,\n",
       "         -2.70737730e-01,  2.20313747e-02,  7.27133895e-01],\n",
       "        [-1.16853304e-01, -1.07306289e-03,  6.35118075e-01, ...,\n",
       "         -2.71028249e-01,  2.20550158e-02,  7.27914155e-01],\n",
       "        [-1.44769873e-01, -1.32942051e-03,  7.86849498e-01, ...,\n",
       "         -3.35777629e-01,  2.73240186e-02,  9.01814812e-01],\n",
       "        ...,\n",
       "        [-9.77655087e-02, -8.97779834e-04,  5.31372583e-01, ...,\n",
       "         -2.26756231e-01,  1.84523652e-02,  6.09010576e-01],\n",
       "        [-9.67527244e-02, -8.88479444e-04,  5.25867924e-01, ...,\n",
       "         -2.24407190e-01,  1.82612113e-02,  6.02701640e-01],\n",
       "        [-5.94757485e-02, -5.46165292e-04,  3.23261061e-01, ...,\n",
       "         -1.37947388e-01,  1.12255155e-02,  3.70492215e-01]])]"
      ]
     },
     "execution_count": 265,
     "metadata": {},
     "output_type": "execute_result"
    }
   ],
   "source": []
  },
  {
   "cell_type": "code",
   "execution_count": null,
   "id": "eb5a84b4-1d1e-4619-8cf9-347ea09a0433",
   "metadata": {},
   "outputs": [],
   "source": []
  },
  {
   "cell_type": "code",
   "execution_count": 244,
   "id": "78c0e249-1042-4c9c-b927-526c3525ba41",
   "metadata": {},
   "outputs": [
    {
     "data": {
      "text/plain": [
       "[array([232177.51]),\n",
       " array([-24268.78]),\n",
       " array([-222.86]),\n",
       " array([-171953.97]),\n",
       " array([131905.05]),\n",
       " array([-42143.34]),\n",
       " array([-6020.259]),\n",
       " array([23725.41]),\n",
       " array([-30899.069]),\n",
       " array([-32240.032]),\n",
       " array([80446.742]),\n",
       " array([-8813.2]),\n",
       " array([-308812.62714883]),\n",
       " array([-734.76753037]),\n",
       " array([45971.22737605]),\n",
       " array([236420.41348439]),\n",
       " array([-229085.08229991]),\n",
       " array([61891.63468161]),\n",
       " array([25235.68710374]),\n",
       " array([-34187.79936369]),\n",
       " array([73095.04711658]),\n",
       " array([21103.39396647]),\n",
       " array([-100478.53289679]),\n",
       " array([-5264.38024257]),\n",
       " array([-114924.41953401]),\n",
       " array([-6495.75061241]),\n",
       " array([64601.8781937]),\n",
       " array([6724.53001863]),\n",
       " array([-36978.36721879]),\n",
       " array([82545.65219429]),\n",
       " array([-48072.29279938]),\n",
       " array([-1756.42503397]),\n",
       " array([-26931.35584803]),\n",
       " array([54014.5063119]),\n",
       " array([-79170.58840838]),\n",
       " array([43349.36109165]),\n",
       " array([-35324.14540598]),\n",
       " array([44191.16618796]),\n",
       " array([-122856.00331725]),\n",
       " array([85058.56651363]),\n",
       " array([54952.62895104]),\n",
       " array([20550.57239219]),\n",
       " array([98195.43974666]),\n",
       " array([-69025.00697748]),\n",
       " array([54263.79248979]),\n",
       " array([-72641.61244989]),\n",
       " array([-17905.91711811]),\n",
       " array([57940.15323713]),\n",
       " array([-6367.60259264]),\n",
       " array([26209.65009568]),\n",
       " array([-71409.92385699]),\n",
       " array([61840.99895227]),\n",
       " array([-56021.37923032]),\n",
       " array([-124763.63925395]),\n",
       " array([-157100.83229872]),\n",
       " array([103191.33425861]),\n",
       " array([1534.10342017]),\n",
       " array([72752.40898003]),\n",
       " array([-47289.84914538]),\n",
       " array([-46850.37586891]),\n",
       " array([-35135.33988236]),\n",
       " array([77367.30390969]),\n",
       " array([-19604.38065565]),\n",
       " array([-896.44644459]),\n",
       " array([22012.63463288]),\n",
       " array([3337.28628663]),\n",
       " array([31271.00309235]),\n",
       " array([-541.10781415]),\n",
       " array([-72291.54179012]),\n",
       " array([35339.34034946]),\n",
       " array([40093.17200447]),\n",
       " array([-75594.17162554]),\n",
       " array([64991.13282544]),\n",
       " array([52001.1245508]),\n",
       " array([2908.98573108]),\n",
       " array([-43418.49936809]),\n",
       " array([-19456.80968115]),\n",
       " array([65221.3044329]),\n",
       " array([10892.04449389]),\n",
       " array([-76610.13919114]),\n",
       " array([-17830.70299104]),\n",
       " array([18291.30289134]),\n",
       " array([40388.22255474]),\n",
       " array([48201.24581638]),\n",
       " array([-15338.61479507]),\n",
       " array([-31582.08673926]),\n",
       " array([-25975.5235395]),\n",
       " array([42773.99194101]),\n",
       " array([21053.36800146]),\n",
       " array([-93061.94348881]),\n",
       " array([86338.10143052]),\n",
       " array([57012.33980456]),\n",
       " array([84934.63979563]),\n",
       " array([-123119.30105879]),\n",
       " array([148135.13477753]),\n",
       " array([-113902.0235287]),\n",
       " array([49592.52623684]),\n",
       " array([-36752.61419082]),\n",
       " array([22304.44510402]),\n",
       " array([1816.39094111]),\n",
       " array([53237.44301458]),\n",
       " array([-56288.73765196]),\n",
       " array([4580.51513554]),\n",
       " array([151177.48457634])]"
      ]
     },
     "execution_count": 244,
     "metadata": {},
     "output_type": "execute_result"
    }
   ],
   "source": [
    "error"
   ]
  },
  {
   "cell_type": "code",
   "execution_count": 157,
   "id": "7bb3752d-0965-4c09-9e22-8d07f3684834",
   "metadata": {},
   "outputs": [
    {
     "data": {
      "text/plain": [
       "array([[100.        ,   0.        ,  10.45268338, ..., -31.15969658,\n",
       "         -6.0621784 , -10.63409433],\n",
       "       [100.        , -11.6728047 ,   0.        , ..., -46.46971181,\n",
       "        -18.44260934, -23.54819609],\n",
       "       [100.        , -11.79263664,  -0.10730629, ..., -46.62688302,\n",
       "        -18.56970571, -23.68077107],\n",
       "       ...,\n",
       "       [100.        ,   6.46850652,  16.2450574 , ..., -22.67562305,\n",
       "          0.79846053,  -3.47772072],\n",
       "       [100.        ,   7.4374293 ,  17.11270174, ..., -21.40478689,\n",
       "          1.82612113,  -2.40576179],\n",
       "       [100.        ,  43.1000191 ,  49.04759395, ...,  25.37015769,\n",
       "         39.65064075,  37.04922146]])"
      ]
     },
     "execution_count": 157,
     "metadata": {},
     "output_type": "execute_result"
    }
   ],
   "source": [
    "err_pct"
   ]
  },
  {
   "cell_type": "code",
   "execution_count": 179,
   "id": "c519c54f-948b-42cc-b032-209417d70f45",
   "metadata": {},
   "outputs": [
    {
     "data": {
      "text/plain": [
       "-15.122157940550753"
      ]
     },
     "execution_count": 179,
     "metadata": {},
     "output_type": "execute_result"
    }
   ],
   "source": [
    "me"
   ]
  },
  {
   "cell_type": "code",
   "execution_count": 163,
   "id": "a4bc967f-ad24-4ae5-aab8-ccd73ff137eb",
   "metadata": {},
   "outputs": [
    {
     "data": {
      "text/plain": [
       "54.574935445789905"
      ]
     },
     "execution_count": 163,
     "metadata": {},
     "output_type": "execute_result"
    }
   ],
   "source": [
    "mape"
   ]
  },
  {
   "cell_type": "code",
   "execution_count": 176,
   "id": "7909fca7-04c6-47cc-8555-e625d77ef3bc",
   "metadata": {},
   "outputs": [
    {
     "data": {
      "text/plain": [
       "104"
      ]
     },
     "execution_count": 176,
     "metadata": {},
     "output_type": "execute_result"
    }
   ],
   "source": [
    "len(ae)"
   ]
  },
  {
   "cell_type": "code",
   "execution_count": 180,
   "id": "420ded09-b14b-4b48-97d0-6d135bc1f5ec",
   "metadata": {},
   "outputs": [
    {
     "data": {
      "text/plain": [
       "[<matplotlib.lines.Line2D at 0x2392442b370>,\n",
       " <matplotlib.lines.Line2D at 0x2392442b3a0>,\n",
       " <matplotlib.lines.Line2D at 0x2392442b4c0>,\n",
       " <matplotlib.lines.Line2D at 0x2392442b5e0>,\n",
       " <matplotlib.lines.Line2D at 0x2392442b700>,\n",
       " <matplotlib.lines.Line2D at 0x2392442b820>,\n",
       " <matplotlib.lines.Line2D at 0x2392442b940>,\n",
       " <matplotlib.lines.Line2D at 0x2392442ba60>,\n",
       " <matplotlib.lines.Line2D at 0x2392442bb80>,\n",
       " <matplotlib.lines.Line2D at 0x2392442bca0>,\n",
       " <matplotlib.lines.Line2D at 0x23928ef4340>,\n",
       " <matplotlib.lines.Line2D at 0x2392442bdc0>,\n",
       " <matplotlib.lines.Line2D at 0x2392442bfd0>,\n",
       " <matplotlib.lines.Line2D at 0x23924433130>,\n",
       " <matplotlib.lines.Line2D at 0x23924433250>,\n",
       " <matplotlib.lines.Line2D at 0x23924433370>,\n",
       " <matplotlib.lines.Line2D at 0x23924433490>,\n",
       " <matplotlib.lines.Line2D at 0x239244335b0>,\n",
       " <matplotlib.lines.Line2D at 0x239244336d0>,\n",
       " <matplotlib.lines.Line2D at 0x239244337f0>,\n",
       " <matplotlib.lines.Line2D at 0x23924433910>,\n",
       " <matplotlib.lines.Line2D at 0x23924433a30>,\n",
       " <matplotlib.lines.Line2D at 0x23924433b50>,\n",
       " <matplotlib.lines.Line2D at 0x23924433c70>,\n",
       " <matplotlib.lines.Line2D at 0x23924433d90>,\n",
       " <matplotlib.lines.Line2D at 0x23924433eb0>,\n",
       " <matplotlib.lines.Line2D at 0x23924433fd0>,\n",
       " <matplotlib.lines.Line2D at 0x2392443a130>,\n",
       " <matplotlib.lines.Line2D at 0x2392443a250>,\n",
       " <matplotlib.lines.Line2D at 0x2392443a370>,\n",
       " <matplotlib.lines.Line2D at 0x2392443a490>,\n",
       " <matplotlib.lines.Line2D at 0x2392443a5b0>,\n",
       " <matplotlib.lines.Line2D at 0x2392443a6d0>,\n",
       " <matplotlib.lines.Line2D at 0x2392443a7f0>,\n",
       " <matplotlib.lines.Line2D at 0x2392443a910>,\n",
       " <matplotlib.lines.Line2D at 0x2392443aa30>,\n",
       " <matplotlib.lines.Line2D at 0x2392443ab50>,\n",
       " <matplotlib.lines.Line2D at 0x2392443ac70>,\n",
       " <matplotlib.lines.Line2D at 0x2392443ad90>,\n",
       " <matplotlib.lines.Line2D at 0x2392443aeb0>,\n",
       " <matplotlib.lines.Line2D at 0x2392443afd0>,\n",
       " <matplotlib.lines.Line2D at 0x2392443f130>,\n",
       " <matplotlib.lines.Line2D at 0x2392443f250>,\n",
       " <matplotlib.lines.Line2D at 0x2392443f370>,\n",
       " <matplotlib.lines.Line2D at 0x2392443f490>,\n",
       " <matplotlib.lines.Line2D at 0x2392443f5b0>,\n",
       " <matplotlib.lines.Line2D at 0x2392443f6d0>,\n",
       " <matplotlib.lines.Line2D at 0x2392443f7f0>,\n",
       " <matplotlib.lines.Line2D at 0x2392443f910>,\n",
       " <matplotlib.lines.Line2D at 0x2392443fa30>,\n",
       " <matplotlib.lines.Line2D at 0x2392443fb50>,\n",
       " <matplotlib.lines.Line2D at 0x2392443fc70>,\n",
       " <matplotlib.lines.Line2D at 0x2392443fd90>,\n",
       " <matplotlib.lines.Line2D at 0x2392443feb0>,\n",
       " <matplotlib.lines.Line2D at 0x2392443ffd0>,\n",
       " <matplotlib.lines.Line2D at 0x23924446130>,\n",
       " <matplotlib.lines.Line2D at 0x23924446250>,\n",
       " <matplotlib.lines.Line2D at 0x23924446370>,\n",
       " <matplotlib.lines.Line2D at 0x23924446490>,\n",
       " <matplotlib.lines.Line2D at 0x239244465b0>,\n",
       " <matplotlib.lines.Line2D at 0x239244466d0>,\n",
       " <matplotlib.lines.Line2D at 0x239244467f0>,\n",
       " <matplotlib.lines.Line2D at 0x23924446910>,\n",
       " <matplotlib.lines.Line2D at 0x23924446a30>,\n",
       " <matplotlib.lines.Line2D at 0x23924446b50>,\n",
       " <matplotlib.lines.Line2D at 0x23924446c70>,\n",
       " <matplotlib.lines.Line2D at 0x23924446d90>,\n",
       " <matplotlib.lines.Line2D at 0x23924446eb0>,\n",
       " <matplotlib.lines.Line2D at 0x23924446fd0>,\n",
       " <matplotlib.lines.Line2D at 0x2392444e130>,\n",
       " <matplotlib.lines.Line2D at 0x2392444e250>,\n",
       " <matplotlib.lines.Line2D at 0x2392444e370>,\n",
       " <matplotlib.lines.Line2D at 0x2392444e490>,\n",
       " <matplotlib.lines.Line2D at 0x2392444e5b0>,\n",
       " <matplotlib.lines.Line2D at 0x2392444e6d0>,\n",
       " <matplotlib.lines.Line2D at 0x2392444e7f0>,\n",
       " <matplotlib.lines.Line2D at 0x2392444e910>,\n",
       " <matplotlib.lines.Line2D at 0x2392444ea30>,\n",
       " <matplotlib.lines.Line2D at 0x2392444eb50>,\n",
       " <matplotlib.lines.Line2D at 0x2392444ec70>,\n",
       " <matplotlib.lines.Line2D at 0x2392444ed90>,\n",
       " <matplotlib.lines.Line2D at 0x2392444eeb0>,\n",
       " <matplotlib.lines.Line2D at 0x2392444efd0>,\n",
       " <matplotlib.lines.Line2D at 0x23924452130>,\n",
       " <matplotlib.lines.Line2D at 0x23924452250>,\n",
       " <matplotlib.lines.Line2D at 0x23924452370>,\n",
       " <matplotlib.lines.Line2D at 0x23924452490>,\n",
       " <matplotlib.lines.Line2D at 0x239244525b0>,\n",
       " <matplotlib.lines.Line2D at 0x239244526d0>,\n",
       " <matplotlib.lines.Line2D at 0x239244527f0>,\n",
       " <matplotlib.lines.Line2D at 0x23924452910>,\n",
       " <matplotlib.lines.Line2D at 0x23924452a30>,\n",
       " <matplotlib.lines.Line2D at 0x23924452b50>,\n",
       " <matplotlib.lines.Line2D at 0x23924452c70>,\n",
       " <matplotlib.lines.Line2D at 0x23924452d90>,\n",
       " <matplotlib.lines.Line2D at 0x23924452eb0>,\n",
       " <matplotlib.lines.Line2D at 0x23924452fd0>,\n",
       " <matplotlib.lines.Line2D at 0x23924459130>,\n",
       " <matplotlib.lines.Line2D at 0x23924459250>,\n",
       " <matplotlib.lines.Line2D at 0x23924459370>,\n",
       " <matplotlib.lines.Line2D at 0x23924459490>,\n",
       " <matplotlib.lines.Line2D at 0x239244595b0>,\n",
       " <matplotlib.lines.Line2D at 0x239244596d0>,\n",
       " <matplotlib.lines.Line2D at 0x239244597f0>]"
      ]
     },
     "execution_count": 180,
     "metadata": {},
     "output_type": "execute_result"
    },
    {
     "data": {
      "image/png": "[encoded data removed]",
      "text/plain": [
       "<Figure size 432x288 with 1 Axes>"
      ]
     },
     "metadata": {
      "needs_background": "light"
     },
     "output_type": "display_data"
    }
   ],
   "source": []
  },
  {
   "cell_type": "code",
   "execution_count": null,
   "id": "a29965a9-6a3f-4d08-ba84-5d53bf63b05c",
   "metadata": {},
   "outputs": [],
   "source": []
  }
 ],
 "metadata": {
  "kernelspec": {
   "display_name": "Python 3",
   "language": "python",
   "name": "python3"
  },
  "language_info": {
   "codemirror_mode": {
    "name": "ipython",
    "version": 3
   },
   "file_extension": ".py",
   "mimetype": "text/x-python",
   "name": "python",
   "nbconvert_exporter": "python",
   "pygments_lexer": "ipython3",
   "version": "3.8.5"
  }
 },
 "nbformat": 4,
 "nbformat_minor": 5
}
